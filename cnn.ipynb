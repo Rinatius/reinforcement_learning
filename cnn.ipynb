{
 "cells": [
  {
   "cell_type": "code",
   "execution_count": 2,
   "metadata": {},
   "outputs": [],
   "source": [
    "import sys\n",
    "sys.path.insert(0,'/usr/lib/chromium-browser/chromedriver')\n",
    "from selenium import webdriver"
   ]
  },
  {
   "cell_type": "code",
   "execution_count": 1,
   "metadata": {},
   "outputs": [],
   "source": [
    "from IPython.display import Image\n",
    "from selenium.webdriver.common.keys import Keys\n",
    "import numpy as np\n",
    "import time"
   ]
  },
  {
   "cell_type": "code",
   "execution_count": 3,
   "metadata": {},
   "outputs": [
    {
     "name": "stderr",
     "output_type": "stream",
     "text": [
      "Using TensorFlow backend.\n"
     ]
    }
   ],
   "source": [
    "import keras\n",
    "from keras.layers import Dense, Flatten, Dropout, MaxPooling1D, Conv1D, Input, LSTM, SimpleRNN\n",
    "from keras.models import Model\n",
    "from keras.layers.merge import concatenate\n",
    "from keras.utils import Sequence\n",
    "from keras import backend as K\n",
    "from IPython.display import SVG\n",
    "from keras.utils.vis_utils import model_to_dot\n",
    "from keras.preprocessing.sequence import pad_sequences"
   ]
  },
  {
   "cell_type": "code",
   "execution_count": 3,
   "metadata": {},
   "outputs": [],
   "source": [
    "wd = webdriver.Chrome()"
   ]
  },
  {
   "cell_type": "code",
   "execution_count": 4,
   "metadata": {},
   "outputs": [],
   "source": [
    "wd.get(\"https://rinatius.github.io/4magnets/\")"
   ]
  },
  {
   "cell_type": "code",
   "execution_count": 5,
   "metadata": {},
   "outputs": [
    {
     "data": {
      "image/png": "[encoded data removed]",
      "text/plain": [
       "<IPython.core.display.Image object>"
      ]
     },
     "execution_count": 5,
     "metadata": {},
     "output_type": "execute_result"
    }
   ],
   "source": [
    "Image(wd.get_screenshot_as_png())"
   ]
  },
  {
   "cell_type": "code",
   "execution_count": 6,
   "metadata": {},
   "outputs": [],
   "source": [
    "X_MIN = 120\n",
    "X_MAX = 340\n",
    "Y_MIN = 56\n",
    "Y_MAX = 273\n",
    "multiplier = 100\n",
    "\n",
    "def write_value(value, element):\n",
    "    select_all_symbols(element)\n",
    "    element.send_keys(str(int(value)))\n",
    "\n",
    "def select_all_symbols(element):\n",
    "    element.click()\n",
    "    element.send_keys(Keys.END)\n",
    "    element.send_keys(Keys.SHIFT + Keys.HOME)\n",
    "\n",
    "def get_state(wd):\n",
    "    values = []\n",
    "    values.append((float(wd.find_element_by_xpath(\"/html/body/input[2]\").get_attribute(\"value\")) - X_MIN)/(X_MAX - X_MIN))\n",
    "    values.append((float(wd.find_element_by_xpath(\"/html/body/input[3]\").get_attribute(\"value\")) - Y_MIN)/(Y_MAX - Y_MIN))\n",
    "    values.append((float(wd.find_element_by_xpath(\"/html/body/input[4]\").get_attribute(\"value\")) - X_MIN)/(X_MAX - X_MIN))\n",
    "    values.append((float(wd.find_element_by_xpath(\"/html/body/input[5]\").get_attribute(\"value\")) - Y_MIN)/(Y_MAX - Y_MIN))\n",
    "    return np.array(values).reshape(1, len(values))\n",
    "\n",
    "def act(wd, actions, multiplier=multiplier):\n",
    "    left = wd.find_element_by_xpath(\"/html/body/input[1]\")\n",
    "    right = wd.find_element_by_xpath(\"/html/body/input[6]\")\n",
    "    top = wd.find_element_by_xpath(\"/html/body/input[7]\")\n",
    "    bottom = wd.find_element_by_xpath(\"/html/body/input[8]\")\n",
    "    \n",
    "    write_value(actions[0]*multiplier, left)\n",
    "    write_value(actions[1]*multiplier, right)\n",
    "    write_value(actions[2]*multiplier, top)\n",
    "    write_value(actions[3]*multiplier, bottom)\n",
    "\n",
    "def randomize_element(wd, x_el, y_el):\n",
    "    x_element = wd.find_element_by_xpath(\"/html/body/input[\"+x_el+\"]\")\n",
    "    y_element = wd.find_element_by_xpath(\"/html/body/input[\"+y_el+\"]\")\n",
    "    x = int(np.random.rand() * (X_MAX - X_MIN) + X_MIN)\n",
    "    y = int(np.random.rand() * (Y_MAX - Y_MIN) + Y_MIN)\n",
    "    write_value(x, x_element)\n",
    "    write_value(y, y_element)\n",
    "\n",
    "def random_target(wd):\n",
    "    randomize_element(wd, '2', '3')\n",
    "    \n",
    "def random_position(wd):\n",
    "    randomize_element(wd, '13', '14')\n",
    "    \n",
    "def show_prediction(wd, xy):\n",
    "    x = wd.find_element_by_xpath(\"/html/body/input[9]\")\n",
    "    y = wd.find_element_by_xpath(\"/html/body/input[10]\")\n",
    "    \n",
    "    write_value(int(xy[0] * (X_MAX - X_MIN) + X_MIN), x)\n",
    "    write_value(int(xy[1] * (Y_MAX - Y_MIN) + Y_MIN), y)\n",
    "    \n",
    "def start_sim(wd):\n",
    "    wd.find_element_by_xpath(\"/html/body/input[12]\").click()\n",
    "    "
   ]
  },
  {
   "cell_type": "code",
   "execution_count": 7,
   "metadata": {},
   "outputs": [],
   "source": [
    "state_len = get_state(wd).shape[1]\n",
    "num_commands = 4\n",
    "sequence_len = 6\n",
    "batch_size = 3\n",
    "batches = 10\n",
    "epochs = 50\n",
    "dropout = 0.2\n",
    "empty = -1\n",
    "conv_input_shape = (sequence_len, num_commands)"
   ]
  },
  {
   "cell_type": "code",
   "execution_count": 8,
   "metadata": {},
   "outputs": [
    {
     "data": {
      "text/plain": [
       "'def prediction_loss(y_true, y_pred):\\n    prediction_accuracy = K.mean(K.sum(K.square(y_pred)))\\n    #square_distance_to_target = K.mean(K.sum(K.square(y_pred - y_true[:, 0])))\\n    combined_loss = prediction_accuracy\\n    return combined_loss'"
      ]
     },
     "execution_count": 8,
     "metadata": {},
     "output_type": "execute_result"
    }
   ],
   "source": [
    "def control_reproduction_loss(y_true, y_pred):\n",
    "    return K.mean(K.square(y_pred - y_true))\n",
    "\n",
    "'''def prediction_loss(y_true, y_pred):\n",
    "    prediction_accuracy = K.mean(K.sum(K.square(y_pred - y_true[:, 3])))\n",
    "    square_distance_to_target = K.mean(K.sum(K.square(y_pred - y_true[:, 0])))\n",
    "    combined_loss = K.exp(prediction_accuracy)*square_distance_to_target\n",
    "    return combined_loss'''\n",
    "\n",
    "def prediction_loss(y_true, y_pred):\n",
    "    prediction_accuracy = K.mean(K.sum(K.square(y_pred - y_true[:, 3, :])))\n",
    "    #square_distance_to_target = K.mean(K.sum(K.square(y_pred - y_true[:, 0])))\n",
    "    combined_loss = prediction_accuracy\n",
    "    return combined_loss\n",
    "\n",
    "def prediction_accuracy(y_true, y_pred):\n",
    "    return K.mean(K.sum(K.square(y_pred - y_true[:, 3, :])))\n",
    "\n",
    "def distance_to_target(y_true, y_pred):\n",
    "    return K.mean(K.sum(K.square(y_true[:, 0] - y_true[:, 3, :])))\n",
    "\n",
    "def predicted_distance_to_target(y_true, y_pred):\n",
    "    return K.mean(K.sum(K.square(y_pred - y_true[:, 0, :])))\n",
    "\n",
    "def prediction_reproduction(y_true, y_pred):\n",
    "    return K.mean(K.sum(K.square(y_pred - y_true[:, 4, :])))\n",
    "\n",
    "'''def prediction_loss(y_true, y_pred):\n",
    "    prediction_accuracy = K.mean(K.sum(K.square(y_pred)))\n",
    "    #square_distance_to_target = K.mean(K.sum(K.square(y_pred - y_true[:, 0])))\n",
    "    combined_loss = prediction_accuracy\n",
    "    return combined_loss'''"
   ]
  },
  {
   "cell_type": "code",
   "execution_count": 10,
   "metadata": {},
   "outputs": [],
   "source": [
    "class WDSequence(Sequence):\n",
    "\n",
    "    def __init__(self,\n",
    "                 wd,\n",
    "                 model,\n",
    "                 batches,\n",
    "                 batch_size):\n",
    "        self.model = model\n",
    "        self.wd = wd\n",
    "        self.batches = batches\n",
    "        self.batch_size = batch_size        \n",
    "\n",
    "    def __len__(self):\n",
    "        return self.batches\n",
    "\n",
    "    def __getitem__(self, idx):\n",
    "        \n",
    "        self.wd.get(\"https://rinatius.github.io/4magnets/\")\n",
    "        time.sleep(7)\n",
    "        random_target(self.wd)\n",
    "        random_position(self.wd)\n",
    "        start_sim(self.wd)\n",
    "        state = np.full([sequence_len, state_len], empty)\n",
    "        \n",
    "        in_state = []\n",
    "        out_control = []\n",
    "        out_prediction = []\n",
    "        \n",
    "        for i in range(batch_size):  \n",
    "\n",
    "            state = np.append(state[1:], get_state(wd), axis=0)\n",
    "\n",
    "\n",
    "            target = state[-1, :2]\n",
    "            position = state[-1, 2:]\n",
    "\n",
    "\n",
    "            y_pred = self.model.predict(state.reshape([1, state.shape[0], state.shape[1]]))\n",
    "            actions = y_pred[0][0][0]\n",
    "\n",
    "            act(wd, actions)\n",
    "            show_prediction(wd, y_pred[1][0][0])\n",
    "            time.sleep(0.3)\n",
    "\n",
    "            new_state = get_state(wd)\n",
    "            new_target = new_state[0][:2]\n",
    "            new_position = new_state[0][2:]\n",
    "\n",
    "            predicted_position = y_pred[1][0][0]\n",
    "\n",
    "            in_state.append(state)\n",
    "            out_control.append(y_pred[0][0])\n",
    "            out_prediction.append([target, position, new_target, new_position, predicted_position])\n",
    "            #out_prediction.append(new_position)\n",
    "        \n",
    "        return ({'in_state': np.array(in_state)}, \n",
    "                {'out_control': np.array(out_control), \n",
    "                 'out_prediction': np.array(out_prediction)} )"
   ]
  },
  {
   "cell_type": "code",
   "execution_count": 11,
   "metadata": {},
   "outputs": [],
   "source": [
    "#input_shape = [1, 8]"
   ]
  },
  {
   "cell_type": "markdown",
   "metadata": {},
   "source": [
    "#in_state = LSTM(4, input_shape=(None, 1, 4), return_sequences=True, name='in_state')\n",
    "in_state = Input(shape=(None, 4), name='in_state')\n",
    "first_lstm = LSTM(128, return_sequences=True, name='first_lstm')(in_state)\n",
    "l = LSTM(128)(first_lstm)\n",
    "l = Dense(128, activation='relu')(l)\n",
    "out_control = Dense(num_commands, activation='sigmoid', name='out_control')(l)\n",
    "last_lstm = LSTM(128, name='last_lstm')(first_lstm)\n",
    "l = concatenate([last_lstm, out_control])\n",
    "l = Dense(128, activation='relu')(l)\n",
    "out_prediction = Dense(2, activation='sigmoid', name='out_prediction')(l)"
   ]
  },
  {
   "cell_type": "code",
   "execution_count": 12,
   "metadata": {},
   "outputs": [],
   "source": [
    "in_state = Input(shape=conv_input_shape, name='in_state')\n",
    "first_seq = Conv1D(128, kernel_size=2, activation='relu', name='first_seq')(in_state)\n",
    "l = Conv1D(128, kernel_size=2, activation='relu')(first_seq)\n",
    "l = MaxPooling1D(pool_size=2)(l)\n",
    "l = Conv1D(128, kernel_size=2, activation='relu')(l)\n",
    "#l = Flatten()(l)\n",
    "l = Dense(128, activation='relu')(l)\n",
    "out_control = Dense(num_commands, activation='sigmoid', name='out_control')(l)\n",
    "l = Conv1D(128, kernel_size=2, activation='relu')(in_state)\n",
    "l = MaxPooling1D(pool_size=2)(l)\n",
    "l = Conv1D(128, kernel_size=2, activation='relu')(l)\n",
    "#l = Flatten()(l)\n",
    "l = concatenate([l, out_control])\n",
    "l = Dense(128, activation='relu')(l)\n",
    "l = Dense(128, activation='relu')(l)\n",
    "out_prediction = Dense(2, activation='sigmoid', name='out_prediction')(l)"
   ]
  },
  {
   "cell_type": "code",
   "execution_count": 13,
   "metadata": {
    "scrolled": true
   },
   "outputs": [
    {
     "name": "stdout",
     "output_type": "stream",
     "text": [
      "__________________________________________________________________________________________________\n",
      "Layer (type)                    Output Shape         Param #     Connected to                     \n",
      "==================================================================================================\n",
      "in_state (InputLayer)           (None, 6, 4)         0                                            \n",
      "__________________________________________________________________________________________________\n",
      "first_seq (Conv1D)              (None, 5, 128)       1152        in_state[0][0]                   \n",
      "__________________________________________________________________________________________________\n",
      "conv1d_1 (Conv1D)               (None, 4, 128)       32896       first_seq[0][0]                  \n",
      "__________________________________________________________________________________________________\n",
      "max_pooling1d_1 (MaxPooling1D)  (None, 2, 128)       0           conv1d_1[0][0]                   \n",
      "__________________________________________________________________________________________________\n",
      "conv1d_2 (Conv1D)               (None, 1, 128)       32896       max_pooling1d_1[0][0]            \n",
      "__________________________________________________________________________________________________\n",
      "conv1d_3 (Conv1D)               (None, 5, 128)       1152        in_state[0][0]                   \n",
      "__________________________________________________________________________________________________\n",
      "dense_1 (Dense)                 (None, 1, 128)       16512       conv1d_2[0][0]                   \n",
      "__________________________________________________________________________________________________\n",
      "max_pooling1d_2 (MaxPooling1D)  (None, 2, 128)       0           conv1d_3[0][0]                   \n",
      "__________________________________________________________________________________________________\n",
      "out_control (Dense)             (None, 1, 4)         516         dense_1[0][0]                    \n",
      "__________________________________________________________________________________________________\n",
      "conv1d_4 (Conv1D)               (None, 1, 128)       32896       max_pooling1d_2[0][0]            \n",
      "__________________________________________________________________________________________________\n",
      "concatenate_1 (Concatenate)     (None, 1, 132)       0           conv1d_4[0][0]                   \n",
      "                                                                 out_control[0][0]                \n",
      "__________________________________________________________________________________________________\n",
      "dense_2 (Dense)                 (None, 1, 128)       17024       concatenate_1[0][0]              \n",
      "__________________________________________________________________________________________________\n",
      "dense_3 (Dense)                 (None, 1, 128)       16512       dense_2[0][0]                    \n",
      "__________________________________________________________________________________________________\n",
      "out_prediction (Dense)          (None, 1, 2)         258         dense_3[0][0]                    \n",
      "==================================================================================================\n",
      "Total params: 151,814\n",
      "Trainable params: 151,814\n",
      "Non-trainable params: 0\n",
      "__________________________________________________________________________________________________\n"
     ]
    }
   ],
   "source": [
    "model = Model(inputs=[in_state],\n",
    "              outputs=[out_control, out_prediction])\n",
    "model.summary()\n"
   ]
  },
  {
   "cell_type": "code",
   "execution_count": 14,
   "metadata": {},
   "outputs": [
    {
     "data": {
      "image/svg+xml": [
       "<svg height=\"775pt\" viewBox=\"0.00 0.00 440.00 775.00\" width=\"440pt\" xmlns=\"http://www.w3.org/2000/svg\" xmlns:xlink=\"http://www.w3.org/1999/xlink\">\n",
       "<g class=\"graph\" id=\"graph0\" transform=\"scale(1 1) rotate(0) translate(4 771)\">\n",
       "<title>G</title>\n",
       "<polygon fill=\"#ffffff\" points=\"-4,4 -4,-771 436,-771 436,4 -4,4\" stroke=\"transparent\"/>\n",
       "<!-- 140707068633608 -->\n",
       "<g class=\"node\" id=\"node1\">\n",
       "<title>140707068633608</title>\n",
       "<polygon fill=\"none\" points=\"152.5,-730.5 152.5,-766.5 278.5,-766.5 278.5,-730.5 152.5,-730.5\" stroke=\"#000000\"/>\n",
       "<text fill=\"#000000\" font-family=\"Times,serif\" font-size=\"14.00\" text-anchor=\"middle\" x=\"215.5\" y=\"-744.8\">in_state: InputLayer</text>\n",
       "</g>\n",
       "<!-- 140707068635568 -->\n",
       "<g class=\"node\" id=\"node2\">\n",
       "<title>140707068635568</title>\n",
       "<polygon fill=\"none\" points=\"101.5,-657.5 101.5,-693.5 217.5,-693.5 217.5,-657.5 101.5,-657.5\" stroke=\"#000000\"/>\n",
       "<text fill=\"#000000\" font-family=\"Times,serif\" font-size=\"14.00\" text-anchor=\"middle\" x=\"159.5\" y=\"-671.8\">first_seq: Conv1D</text>\n",
       "</g>\n",
       "<!-- 140707068633608&#45;&gt;140707068635568 -->\n",
       "<g class=\"edge\" id=\"edge1\">\n",
       "<title>140707068633608-&gt;140707068635568</title>\n",
       "<path d=\"M201.6573,-730.4551C194.9938,-721.7686 186.8785,-711.1898 179.5541,-701.642\" fill=\"none\" stroke=\"#000000\"/>\n",
       "<polygon fill=\"#000000\" points=\"182.2412,-699.3944 173.3775,-693.5904 176.6872,-703.655 182.2412,-699.3944\" stroke=\"#000000\"/>\n",
       "</g>\n",
       "<!-- 140707067863728 -->\n",
       "<g class=\"node\" id=\"node6\">\n",
       "<title>140707067863728</title>\n",
       "<polygon fill=\"none\" points=\"246,-584.5 246,-620.5 369,-620.5 369,-584.5 246,-584.5\" stroke=\"#000000\"/>\n",
       "<text fill=\"#000000\" font-family=\"Times,serif\" font-size=\"14.00\" text-anchor=\"middle\" x=\"307.5\" y=\"-598.8\">conv1d_3: Conv1D</text>\n",
       "</g>\n",
       "<!-- 140707068633608&#45;&gt;140707067863728 -->\n",
       "<g class=\"edge\" id=\"edge5\">\n",
       "<title>140707068633608-&gt;140707067863728</title>\n",
       "<path d=\"M226.9658,-730.3042C242.9427,-704.9496 272.0177,-658.8089 290.5149,-629.4546\" fill=\"none\" stroke=\"#000000\"/>\n",
       "<polygon fill=\"#000000\" points=\"293.5195,-631.2515 295.8897,-620.9251 287.5973,-627.5196 293.5195,-631.2515\" stroke=\"#000000\"/>\n",
       "</g>\n",
       "<!-- 140707068636744 -->\n",
       "<g class=\"node\" id=\"node3\">\n",
       "<title>140707068636744</title>\n",
       "<polygon fill=\"none\" points=\"84,-584.5 84,-620.5 207,-620.5 207,-584.5 84,-584.5\" stroke=\"#000000\"/>\n",
       "<text fill=\"#000000\" font-family=\"Times,serif\" font-size=\"14.00\" text-anchor=\"middle\" x=\"145.5\" y=\"-598.8\">conv1d_1: Conv1D</text>\n",
       "</g>\n",
       "<!-- 140707068635568&#45;&gt;140707068636744 -->\n",
       "<g class=\"edge\" id=\"edge2\">\n",
       "<title>140707068635568-&gt;140707068636744</title>\n",
       "<path d=\"M156.0393,-657.4551C154.4912,-649.3828 152.6297,-639.6764 150.9047,-630.6817\" fill=\"none\" stroke=\"#000000\"/>\n",
       "<polygon fill=\"#000000\" points=\"154.2903,-629.7521 148.9694,-620.5904 147.4156,-631.0706 154.2903,-629.7521\" stroke=\"#000000\"/>\n",
       "</g>\n",
       "<!-- 140707068636352 -->\n",
       "<g class=\"node\" id=\"node4\">\n",
       "<title>140707068636352</title>\n",
       "<polygon fill=\"none\" points=\"0,-511.5 0,-547.5 207,-547.5 207,-511.5 0,-511.5\" stroke=\"#000000\"/>\n",
       "<text fill=\"#000000\" font-family=\"Times,serif\" font-size=\"14.00\" text-anchor=\"middle\" x=\"103.5\" y=\"-525.8\">max_pooling1d_1: MaxPooling1D</text>\n",
       "</g>\n",
       "<!-- 140707068636744&#45;&gt;140707068636352 -->\n",
       "<g class=\"edge\" id=\"edge3\">\n",
       "<title>140707068636744-&gt;140707068636352</title>\n",
       "<path d=\"M135.118,-584.4551C130.2718,-576.0319 124.4018,-565.8292 119.0416,-556.5128\" fill=\"none\" stroke=\"#000000\"/>\n",
       "<polygon fill=\"#000000\" points=\"121.9289,-554.5127 113.9082,-547.5904 115.8614,-558.0036 121.9289,-554.5127\" stroke=\"#000000\"/>\n",
       "</g>\n",
       "<!-- 140707068358496 -->\n",
       "<g class=\"node\" id=\"node5\">\n",
       "<title>140707068358496</title>\n",
       "<polygon fill=\"none\" points=\"84,-438.5 84,-474.5 207,-474.5 207,-438.5 84,-438.5\" stroke=\"#000000\"/>\n",
       "<text fill=\"#000000\" font-family=\"Times,serif\" font-size=\"14.00\" text-anchor=\"middle\" x=\"145.5\" y=\"-452.8\">conv1d_2: Conv1D</text>\n",
       "</g>\n",
       "<!-- 140707068636352&#45;&gt;140707068358496 -->\n",
       "<g class=\"edge\" id=\"edge4\">\n",
       "<title>140707068636352-&gt;140707068358496</title>\n",
       "<path d=\"M113.882,-511.4551C118.7282,-503.0319 124.5982,-492.8292 129.9584,-483.5128\" fill=\"none\" stroke=\"#000000\"/>\n",
       "<polygon fill=\"#000000\" points=\"133.1386,-485.0036 135.0918,-474.5904 127.0711,-481.5127 133.1386,-485.0036\" stroke=\"#000000\"/>\n",
       "</g>\n",
       "<!-- 140707068453272 -->\n",
       "<g class=\"node\" id=\"node7\">\n",
       "<title>140707068453272</title>\n",
       "<polygon fill=\"none\" points=\"120.5,-365.5 120.5,-401.5 222.5,-401.5 222.5,-365.5 120.5,-365.5\" stroke=\"#000000\"/>\n",
       "<text fill=\"#000000\" font-family=\"Times,serif\" font-size=\"14.00\" text-anchor=\"middle\" x=\"171.5\" y=\"-379.8\">dense_1: Dense</text>\n",
       "</g>\n",
       "<!-- 140707068358496&#45;&gt;140707068453272 -->\n",
       "<g class=\"edge\" id=\"edge6\">\n",
       "<title>140707068358496-&gt;140707068453272</title>\n",
       "<path d=\"M151.927,-438.4551C154.8645,-430.2074 158.4097,-420.2536 161.6712,-411.0962\" fill=\"none\" stroke=\"#000000\"/>\n",
       "<polygon fill=\"#000000\" points=\"164.9987,-412.185 165.0569,-401.5904 158.4045,-409.8364 164.9987,-412.185\" stroke=\"#000000\"/>\n",
       "</g>\n",
       "<!-- 140707067547320 -->\n",
       "<g class=\"node\" id=\"node8\">\n",
       "<title>140707067547320</title>\n",
       "<polygon fill=\"none\" points=\"225,-511.5 225,-547.5 432,-547.5 432,-511.5 225,-511.5\" stroke=\"#000000\"/>\n",
       "<text fill=\"#000000\" font-family=\"Times,serif\" font-size=\"14.00\" text-anchor=\"middle\" x=\"328.5\" y=\"-525.8\">max_pooling1d_2: MaxPooling1D</text>\n",
       "</g>\n",
       "<!-- 140707067863728&#45;&gt;140707067547320 -->\n",
       "<g class=\"edge\" id=\"edge7\">\n",
       "<title>140707067863728-&gt;140707067547320</title>\n",
       "<path d=\"M312.691,-584.4551C315.0384,-576.2951 317.8662,-566.4652 320.4772,-557.3887\" fill=\"none\" stroke=\"#000000\"/>\n",
       "<polygon fill=\"#000000\" points=\"323.8948,-558.1683 323.2959,-547.5904 317.1677,-556.233 323.8948,-558.1683\" stroke=\"#000000\"/>\n",
       "</g>\n",
       "<!-- 140707068119416 -->\n",
       "<g class=\"node\" id=\"node9\">\n",
       "<title>140707068119416</title>\n",
       "<polygon fill=\"none\" points=\"124.5,-292.5 124.5,-328.5 244.5,-328.5 244.5,-292.5 124.5,-292.5\" stroke=\"#000000\"/>\n",
       "<text fill=\"#000000\" font-family=\"Times,serif\" font-size=\"14.00\" text-anchor=\"middle\" x=\"184.5\" y=\"-306.8\">out_control: Dense</text>\n",
       "</g>\n",
       "<!-- 140707068453272&#45;&gt;140707068119416 -->\n",
       "<g class=\"edge\" id=\"edge8\">\n",
       "<title>140707068453272-&gt;140707068119416</title>\n",
       "<path d=\"M174.7135,-365.4551C176.151,-357.3828 177.8795,-347.6764 179.4813,-338.6817\" fill=\"none\" stroke=\"#000000\"/>\n",
       "<polygon fill=\"#000000\" points=\"182.9709,-339.0491 181.2784,-328.5904 176.0793,-337.8218 182.9709,-339.0491\" stroke=\"#000000\"/>\n",
       "</g>\n",
       "<!-- 140707067235072 -->\n",
       "<g class=\"node\" id=\"node10\">\n",
       "<title>140707067235072</title>\n",
       "<polygon fill=\"none\" points=\"246,-438.5 246,-474.5 369,-474.5 369,-438.5 246,-438.5\" stroke=\"#000000\"/>\n",
       "<text fill=\"#000000\" font-family=\"Times,serif\" font-size=\"14.00\" text-anchor=\"middle\" x=\"307.5\" y=\"-452.8\">conv1d_4: Conv1D</text>\n",
       "</g>\n",
       "<!-- 140707067547320&#45;&gt;140707067235072 -->\n",
       "<g class=\"edge\" id=\"edge9\">\n",
       "<title>140707067547320-&gt;140707067235072</title>\n",
       "<path d=\"M323.309,-511.4551C320.9616,-503.2951 318.1338,-493.4652 315.5228,-484.3887\" fill=\"none\" stroke=\"#000000\"/>\n",
       "<polygon fill=\"#000000\" points=\"318.8323,-483.233 312.7041,-474.5904 312.1052,-485.1683 318.8323,-483.233\" stroke=\"#000000\"/>\n",
       "</g>\n",
       "<!-- 140707066925632 -->\n",
       "<g class=\"node\" id=\"node11\">\n",
       "<title>140707066925632</title>\n",
       "<polygon fill=\"none\" points=\"144.5,-219.5 144.5,-255.5 312.5,-255.5 312.5,-219.5 144.5,-219.5\" stroke=\"#000000\"/>\n",
       "<text fill=\"#000000\" font-family=\"Times,serif\" font-size=\"14.00\" text-anchor=\"middle\" x=\"228.5\" y=\"-233.8\">concatenate_1: Concatenate</text>\n",
       "</g>\n",
       "<!-- 140707068119416&#45;&gt;140707066925632 -->\n",
       "<g class=\"edge\" id=\"edge11\">\n",
       "<title>140707068119416-&gt;140707066925632</title>\n",
       "<path d=\"M195.3764,-292.4551C200.5063,-283.9441 206.7312,-273.6165 212.3936,-264.2219\" fill=\"none\" stroke=\"#000000\"/>\n",
       "<polygon fill=\"#000000\" points=\"215.4316,-265.9617 217.5962,-255.5904 209.4364,-262.3481 215.4316,-265.9617\" stroke=\"#000000\"/>\n",
       "</g>\n",
       "<!-- 140707067235072&#45;&gt;140707066925632 -->\n",
       "<g class=\"edge\" id=\"edge10\">\n",
       "<title>140707067235072-&gt;140707066925632</title>\n",
       "<path d=\"M302.3172,-438.4958C293.3731,-407.9845 274.0163,-344.3313 253.5,-292 250.0216,-283.1276 245.834,-273.6314 241.8892,-265.092\" fill=\"none\" stroke=\"#000000\"/>\n",
       "<polygon fill=\"#000000\" points=\"245.01,-263.5036 237.5893,-255.9416 238.6746,-266.4807 245.01,-263.5036\" stroke=\"#000000\"/>\n",
       "</g>\n",
       "<!-- 140707067111912 -->\n",
       "<g class=\"node\" id=\"node12\">\n",
       "<title>140707067111912</title>\n",
       "<polygon fill=\"none\" points=\"177.5,-146.5 177.5,-182.5 279.5,-182.5 279.5,-146.5 177.5,-146.5\" stroke=\"#000000\"/>\n",
       "<text fill=\"#000000\" font-family=\"Times,serif\" font-size=\"14.00\" text-anchor=\"middle\" x=\"228.5\" y=\"-160.8\">dense_2: Dense</text>\n",
       "</g>\n",
       "<!-- 140707066925632&#45;&gt;140707067111912 -->\n",
       "<g class=\"edge\" id=\"edge12\">\n",
       "<title>140707066925632-&gt;140707067111912</title>\n",
       "<path d=\"M228.5,-219.4551C228.5,-211.3828 228.5,-201.6764 228.5,-192.6817\" fill=\"none\" stroke=\"#000000\"/>\n",
       "<polygon fill=\"#000000\" points=\"232.0001,-192.5903 228.5,-182.5904 225.0001,-192.5904 232.0001,-192.5903\" stroke=\"#000000\"/>\n",
       "</g>\n",
       "<!-- 140707066662080 -->\n",
       "<g class=\"node\" id=\"node13\">\n",
       "<title>140707066662080</title>\n",
       "<polygon fill=\"none\" points=\"177.5,-73.5 177.5,-109.5 279.5,-109.5 279.5,-73.5 177.5,-73.5\" stroke=\"#000000\"/>\n",
       "<text fill=\"#000000\" font-family=\"Times,serif\" font-size=\"14.00\" text-anchor=\"middle\" x=\"228.5\" y=\"-87.8\">dense_3: Dense</text>\n",
       "</g>\n",
       "<!-- 140707067111912&#45;&gt;140707066662080 -->\n",
       "<g class=\"edge\" id=\"edge13\">\n",
       "<title>140707067111912-&gt;140707066662080</title>\n",
       "<path d=\"M228.5,-146.4551C228.5,-138.3828 228.5,-128.6764 228.5,-119.6817\" fill=\"none\" stroke=\"#000000\"/>\n",
       "<polygon fill=\"#000000\" points=\"232.0001,-119.5903 228.5,-109.5904 225.0001,-119.5904 232.0001,-119.5903\" stroke=\"#000000\"/>\n",
       "</g>\n",
       "<!-- 140707066856672 -->\n",
       "<g class=\"node\" id=\"node14\">\n",
       "<title>140707066856672</title>\n",
       "<polygon fill=\"none\" points=\"160,-.5 160,-36.5 297,-36.5 297,-.5 160,-.5\" stroke=\"#000000\"/>\n",
       "<text fill=\"#000000\" font-family=\"Times,serif\" font-size=\"14.00\" text-anchor=\"middle\" x=\"228.5\" y=\"-14.8\">out_prediction: Dense</text>\n",
       "</g>\n",
       "<!-- 140707066662080&#45;&gt;140707066856672 -->\n",
       "<g class=\"edge\" id=\"edge14\">\n",
       "<title>140707066662080-&gt;140707066856672</title>\n",
       "<path d=\"M228.5,-73.4551C228.5,-65.3828 228.5,-55.6764 228.5,-46.6817\" fill=\"none\" stroke=\"#000000\"/>\n",
       "<polygon fill=\"#000000\" points=\"232.0001,-46.5903 228.5,-36.5904 225.0001,-46.5904 232.0001,-46.5903\" stroke=\"#000000\"/>\n",
       "</g>\n",
       "</g>\n",
       "</svg>"
      ],
      "text/plain": [
       "<IPython.core.display.SVG object>"
      ]
     },
     "execution_count": 14,
     "metadata": {},
     "output_type": "execute_result"
    }
   ],
   "source": [
    "SVG(model_to_dot(model).create(prog='dot', format='svg'))"
   ]
  },
  {
   "cell_type": "code",
   "execution_count": 15,
   "metadata": {},
   "outputs": [],
   "source": [
    "model.compile(loss={'out_control': control_reproduction_loss,\n",
    "                    'out_prediction': prediction_loss},\n",
    "              loss_weights={'out_control': 0,\n",
    "                            'out_prediction': 1},\n",
    "              optimizer=keras.optimizers.Adam(),\n",
    "              metrics={'out_prediction': [prediction_accuracy,\n",
    "                                          distance_to_target, \n",
    "                                          predicted_distance_to_target,\n",
    "                                          prediction_reproduction]})"
   ]
  },
  {
   "cell_type": "code",
   "execution_count": 16,
   "metadata": {},
   "outputs": [],
   "source": [
    "#model.load_weights('2steps_dense.h5')"
   ]
  },
  {
   "cell_type": "code",
   "execution_count": 17,
   "metadata": {},
   "outputs": [],
   "source": [
    "sequence = WDSequence(wd, model, batches=batches, batch_size=batch_size)"
   ]
  },
  {
   "cell_type": "code",
   "execution_count": 18,
   "metadata": {
    "scrolled": true
   },
   "outputs": [
    {
     "data": {
      "text/plain": [
       "array([0.51413953, 0.47580415], dtype=float32)"
      ]
     },
     "execution_count": 18,
     "metadata": {},
     "output_type": "execute_result"
    }
   ],
   "source": [
    "state = np.full([sequence_len, num_commands], empty)\n",
    "state = np.append(state[1:], get_state(wd), axis=0)\n",
    "model.predict(state.reshape(1, state.shape[0], state.shape[1]))[1][0][0]"
   ]
  },
  {
   "cell_type": "code",
   "execution_count": 19,
   "metadata": {
    "scrolled": false
   },
   "outputs": [
    {
     "name": "stdout",
     "output_type": "stream",
     "text": [
      "Epoch 1/50\n",
      "10/10 [==============================] - 113s 11s/step - loss: 2.1248 - out_control_loss: 3.1086e-16 - out_prediction_loss: 2.1248 - out_prediction_prediction_accuracy: 2.1248 - out_prediction_distance_to_target: 0.7615 - out_prediction_predicted_distance_to_target: 1.3547 - out_prediction_prediction_reproduction: 0.0024\n",
      "Epoch 2/50\n",
      "10/10 [==============================] - 111s 11s/step - loss: 1.5389 - out_control_loss: 5.1070e-16 - out_prediction_loss: 1.5389 - out_prediction_prediction_accuracy: 1.5389 - out_prediction_distance_to_target: 1.4854 - out_prediction_predicted_distance_to_target: 1.6661 - out_prediction_prediction_reproduction: 0.0049\n",
      "Epoch 3/50\n",
      "10/10 [==============================] - 112s 11s/step - loss: 1.7697 - out_control_loss: 4.2929e-16 - out_prediction_loss: 1.7697 - out_prediction_prediction_accuracy: 1.7697 - out_prediction_distance_to_target: 1.6128 - out_prediction_predicted_distance_to_target: 2.2709 - out_prediction_prediction_reproduction: 0.0042\n",
      "Epoch 4/50\n",
      "10/10 [==============================] - 111s 11s/step - loss: 2.0094 - out_control_loss: 6.3653e-16 - out_prediction_loss: 2.0094 - out_prediction_prediction_accuracy: 2.0094 - out_prediction_distance_to_target: 1.1541 - out_prediction_predicted_distance_to_target: 1.5098 - out_prediction_prediction_reproduction: 0.0035\n",
      "Epoch 5/50\n",
      "10/10 [==============================] - 111s 11s/step - loss: 1.8794 - out_control_loss: 6.0877e-16 - out_prediction_loss: 1.8794 - out_prediction_prediction_accuracy: 1.8794 - out_prediction_distance_to_target: 1.6654 - out_prediction_predicted_distance_to_target: 1.7449 - out_prediction_prediction_reproduction: 0.0099\n",
      "Epoch 6/50\n",
      "10/10 [==============================] - 110s 11s/step - loss: 1.4400 - out_control_loss: 5.2551e-16 - out_prediction_loss: 1.4400 - out_prediction_prediction_accuracy: 1.4400 - out_prediction_distance_to_target: 1.1046 - out_prediction_predicted_distance_to_target: 1.4679 - out_prediction_prediction_reproduction: 0.0199\n",
      "Epoch 7/50\n",
      "10/10 [==============================] - 111s 11s/step - loss: 1.5635 - out_control_loss: 7.8664e-16 - out_prediction_loss: 1.5635 - out_prediction_prediction_accuracy: 1.5635 - out_prediction_distance_to_target: 0.7902 - out_prediction_predicted_distance_to_target: 1.4017 - out_prediction_prediction_reproduction: 0.0363\n",
      "Epoch 8/50\n",
      "10/10 [==============================] - 111s 11s/step - loss: 0.8996 - out_control_loss: 1.2491e-15 - out_prediction_loss: 0.8996 - out_prediction_prediction_accuracy: 0.8996 - out_prediction_distance_to_target: 0.8127 - out_prediction_predicted_distance_to_target: 1.6339 - out_prediction_prediction_reproduction: 0.0363\n",
      "Epoch 9/50\n",
      "10/10 [==============================] - 111s 11s/step - loss: 1.5019 - out_control_loss: 1.5271e-15 - out_prediction_loss: 1.5019 - out_prediction_prediction_accuracy: 1.5019 - out_prediction_distance_to_target: 0.9179 - out_prediction_predicted_distance_to_target: 1.7465 - out_prediction_prediction_reproduction: 0.0664\n",
      "Epoch 10/50\n",
      "10/10 [==============================] - 112s 11s/step - loss: 1.6820 - out_control_loss: 1.3412e-15 - out_prediction_loss: 1.6820 - out_prediction_prediction_accuracy: 1.6820 - out_prediction_distance_to_target: 1.1071 - out_prediction_predicted_distance_to_target: 1.3321 - out_prediction_prediction_reproduction: 0.0386\n",
      "Epoch 11/50\n",
      "10/10 [==============================] - 111s 11s/step - loss: 1.6468 - out_control_loss: 1.2766e-15 - out_prediction_loss: 1.6468 - out_prediction_prediction_accuracy: 1.6468 - out_prediction_distance_to_target: 1.0420 - out_prediction_predicted_distance_to_target: 1.5215 - out_prediction_prediction_reproduction: 0.0696\n",
      "Epoch 12/50\n",
      "10/10 [==============================] - 110s 11s/step - loss: 0.8980 - out_control_loss: 6.5644e-16 - out_prediction_loss: 0.8980 - out_prediction_prediction_accuracy: 0.8980 - out_prediction_distance_to_target: 0.8095 - out_prediction_predicted_distance_to_target: 1.7050 - out_prediction_prediction_reproduction: 0.1247\n",
      "Epoch 13/50\n",
      "10/10 [==============================] - 110s 11s/step - loss: 1.1902 - out_control_loss: 1.1303e-15 - out_prediction_loss: 1.1902 - out_prediction_prediction_accuracy: 1.1902 - out_prediction_distance_to_target: 0.7385 - out_prediction_predicted_distance_to_target: 0.9055 - out_prediction_prediction_reproduction: 0.1615\n",
      "Epoch 14/50\n",
      "10/10 [==============================] - 110s 11s/step - loss: 0.8243 - out_control_loss: 9.9305e-16 - out_prediction_loss: 0.8243 - out_prediction_prediction_accuracy: 0.8243 - out_prediction_distance_to_target: 1.2754 - out_prediction_predicted_distance_to_target: 2.2624 - out_prediction_prediction_reproduction: 0.2206\n",
      "Epoch 15/50\n",
      "10/10 [==============================] - 110s 11s/step - loss: 0.8786 - out_control_loss: 1.1909e-15 - out_prediction_loss: 0.8786 - out_prediction_prediction_accuracy: 0.8786 - out_prediction_distance_to_target: 0.8613 - out_prediction_predicted_distance_to_target: 1.9753 - out_prediction_prediction_reproduction: 0.1535\n",
      "Epoch 16/50\n",
      "10/10 [==============================] - 111s 11s/step - loss: 1.1977 - out_control_loss: 5.2407e-16 - out_prediction_loss: 1.1977 - out_prediction_prediction_accuracy: 1.1977 - out_prediction_distance_to_target: 1.1480 - out_prediction_predicted_distance_to_target: 1.7702 - out_prediction_prediction_reproduction: 0.1094\n",
      "Epoch 17/50\n",
      "10/10 [==============================] - 112s 11s/step - loss: 0.6154 - out_control_loss: 1.7769e-15 - out_prediction_loss: 0.6154 - out_prediction_prediction_accuracy: 0.6154 - out_prediction_distance_to_target: 1.0537 - out_prediction_predicted_distance_to_target: 2.8389 - out_prediction_prediction_reproduction: 0.1693\n",
      "Epoch 18/50\n",
      "10/10 [==============================] - 112s 11s/step - loss: 0.6484 - out_control_loss: 9.5052e-16 - out_prediction_loss: 0.6484 - out_prediction_prediction_accuracy: 0.6484 - out_prediction_distance_to_target: 0.8073 - out_prediction_predicted_distance_to_target: 2.3032 - out_prediction_prediction_reproduction: 0.1351\n",
      "Epoch 19/50\n",
      "10/10 [==============================] - 112s 11s/step - loss: 1.1117 - out_control_loss: 6.2434e-16 - out_prediction_loss: 1.1117 - out_prediction_prediction_accuracy: 1.1117 - out_prediction_distance_to_target: 1.1581 - out_prediction_predicted_distance_to_target: 2.0365 - out_prediction_prediction_reproduction: 0.1038\n",
      "Epoch 20/50\n",
      "10/10 [==============================] - 112s 11s/step - loss: 0.7848 - out_control_loss: 2.3589e-16 - out_prediction_loss: 0.7848 - out_prediction_prediction_accuracy: 0.7848 - out_prediction_distance_to_target: 1.3856 - out_prediction_predicted_distance_to_target: 2.9528 - out_prediction_prediction_reproduction: 0.2035\n",
      "Epoch 21/50\n",
      "10/10 [==============================] - 112s 11s/step - loss: 0.7921 - out_control_loss: 3.2996e-16 - out_prediction_loss: 0.7921 - out_prediction_prediction_accuracy: 0.7921 - out_prediction_distance_to_target: 0.7757 - out_prediction_predicted_distance_to_target: 1.5355 - out_prediction_prediction_reproduction: 0.1611\n",
      "Epoch 22/50\n",
      "10/10 [==============================] - 111s 11s/step - loss: 0.5342 - out_control_loss: 6.8169e-16 - out_prediction_loss: 0.5342 - out_prediction_prediction_accuracy: 0.5342 - out_prediction_distance_to_target: 1.2355 - out_prediction_predicted_distance_to_target: 2.2157 - out_prediction_prediction_reproduction: 0.0926\n",
      "Epoch 23/50\n",
      "10/10 [==============================] - 110s 11s/step - loss: 0.7878 - out_control_loss: 1.1671e-15 - out_prediction_loss: 0.7878 - out_prediction_prediction_accuracy: 0.7878 - out_prediction_distance_to_target: 0.9995 - out_prediction_predicted_distance_to_target: 2.6053 - out_prediction_prediction_reproduction: 0.1601\n",
      "Epoch 24/50\n",
      "10/10 [==============================] - 110s 11s/step - loss: 0.5417 - out_control_loss: 4.1475e-16 - out_prediction_loss: 0.5417 - out_prediction_prediction_accuracy: 0.5417 - out_prediction_distance_to_target: 1.4397 - out_prediction_predicted_distance_to_target: 3.2966 - out_prediction_prediction_reproduction: 0.2886\n",
      "Epoch 25/50\n",
      "10/10 [==============================] - 110s 11s/step - loss: 0.7764 - out_control_loss: 1.1655e-15 - out_prediction_loss: 0.7764 - out_prediction_prediction_accuracy: 0.7764 - out_prediction_distance_to_target: 0.9940 - out_prediction_predicted_distance_to_target: 2.1144 - out_prediction_prediction_reproduction: 0.2071\n",
      "Epoch 26/50\n",
      "10/10 [==============================] - 109s 11s/step - loss: 0.6805 - out_control_loss: 7.6055e-16 - out_prediction_loss: 0.6805 - out_prediction_prediction_accuracy: 0.6805 - out_prediction_distance_to_target: 1.2330 - out_prediction_predicted_distance_to_target: 2.5442 - out_prediction_prediction_reproduction: 0.1303\n",
      "Epoch 27/50\n",
      "10/10 [==============================] - 110s 11s/step - loss: 0.5050 - out_control_loss: 1.1055e-15 - out_prediction_loss: 0.5050 - out_prediction_prediction_accuracy: 0.5050 - out_prediction_distance_to_target: 1.0617 - out_prediction_predicted_distance_to_target: 2.5769 - out_prediction_prediction_reproduction: 0.2335\n",
      "Epoch 28/50\n",
      "10/10 [==============================] - 110s 11s/step - loss: 0.7430 - out_control_loss: 9.3752e-16 - out_prediction_loss: 0.7430 - out_prediction_prediction_accuracy: 0.7430 - out_prediction_distance_to_target: 1.0710 - out_prediction_predicted_distance_to_target: 2.7690 - out_prediction_prediction_reproduction: 0.2047\n",
      "Epoch 29/50\n",
      "10/10 [==============================] - 110s 11s/step - loss: 0.4056 - out_control_loss: 1.0537e-15 - out_prediction_loss: 0.4056 - out_prediction_prediction_accuracy: 0.4056 - out_prediction_distance_to_target: 0.9118 - out_prediction_predicted_distance_to_target: 2.4212 - out_prediction_prediction_reproduction: 0.3086\n",
      "Epoch 30/50\n",
      "10/10 [==============================] - 110s 11s/step - loss: 0.5108 - out_control_loss: 2.1962e-15 - out_prediction_loss: 0.5108 - out_prediction_prediction_accuracy: 0.5108 - out_prediction_distance_to_target: 1.1703 - out_prediction_predicted_distance_to_target: 3.3520 - out_prediction_prediction_reproduction: 0.1770\n",
      "Epoch 31/50\n",
      "10/10 [==============================] - 110s 11s/step - loss: 0.4911 - out_control_loss: 1.1632e-15 - out_prediction_loss: 0.4911 - out_prediction_prediction_accuracy: 0.4911 - out_prediction_distance_to_target: 0.7447 - out_prediction_predicted_distance_to_target: 2.4006 - out_prediction_prediction_reproduction: 0.2252\n",
      "Epoch 32/50\n",
      "10/10 [==============================] - 110s 11s/step - loss: 0.4837 - out_control_loss: 2.3392e-16 - out_prediction_loss: 0.4837 - out_prediction_prediction_accuracy: 0.4837 - out_prediction_distance_to_target: 0.7162 - out_prediction_predicted_distance_to_target: 1.5873 - out_prediction_prediction_reproduction: 0.3444\n",
      "Epoch 33/50\n",
      "10/10 [==============================] - 109s 11s/step - loss: 0.4718 - out_control_loss: 1.6024e-15 - out_prediction_loss: 0.4718 - out_prediction_prediction_accuracy: 0.4718 - out_prediction_distance_to_target: 1.6962 - out_prediction_predicted_distance_to_target: 4.4393 - out_prediction_prediction_reproduction: 0.2673\n",
      "Epoch 34/50\n",
      "10/10 [==============================] - 110s 11s/step - loss: 0.7715 - out_control_loss: 1.4204e-15 - out_prediction_loss: 0.7715 - out_prediction_prediction_accuracy: 0.7715 - out_prediction_distance_to_target: 1.2721 - out_prediction_predicted_distance_to_target: 3.3334 - out_prediction_prediction_reproduction: 0.2809\n",
      "Epoch 35/50\n",
      "10/10 [==============================] - 111s 11s/step - loss: 0.5739 - out_control_loss: 1.2072e-15 - out_prediction_loss: 0.5739 - out_prediction_prediction_accuracy: 0.5739 - out_prediction_distance_to_target: 0.8418 - out_prediction_predicted_distance_to_target: 2.8536 - out_prediction_prediction_reproduction: 0.2417\n",
      "Epoch 36/50\n",
      "10/10 [==============================] - 111s 11s/step - loss: 0.3713 - out_control_loss: 9.9318e-16 - out_prediction_loss: 0.3713 - out_prediction_prediction_accuracy: 0.3713 - out_prediction_distance_to_target: 0.8318 - out_prediction_predicted_distance_to_target: 2.0039 - out_prediction_prediction_reproduction: 0.2498\n",
      "Epoch 37/50\n",
      "10/10 [==============================] - 112s 11s/step - loss: 0.3639 - out_control_loss: 5.7181e-16 - out_prediction_loss: 0.3639 - out_prediction_prediction_accuracy: 0.3639 - out_prediction_distance_to_target: 0.4173 - out_prediction_predicted_distance_to_target: 1.3318 - out_prediction_prediction_reproduction: 0.1908\n",
      "Epoch 38/50\n",
      " 2/10 [=====>........................] - ETA: 1:29 - loss: 0.4951 - out_control_loss: 1.0934e-15 - out_prediction_loss: 0.4951 - out_prediction_prediction_accuracy: 0.4951 - out_prediction_distance_to_target: 1.2527 - out_prediction_predicted_distance_to_target: 3.4381 - out_prediction_prediction_reproduction: 0.1269"
     ]
    },
    {
     "ename": "KeyboardInterrupt",
     "evalue": "",
     "output_type": "error",
     "traceback": [
      "\u001b[0;31m---------------------------------------------------------------------------\u001b[0m",
      "\u001b[0;31mKeyboardInterrupt\u001b[0m                         Traceback (most recent call last)",
      "\u001b[0;32m<ipython-input-19-f86de820bb98>\u001b[0m in \u001b[0;36m<module>\u001b[0;34m()\u001b[0m\n\u001b[0;32m----> 1\u001b[0;31m \u001b[0mmodel\u001b[0m\u001b[0;34m.\u001b[0m\u001b[0mfit_generator\u001b[0m\u001b[0;34m(\u001b[0m\u001b[0msequence\u001b[0m\u001b[0;34m,\u001b[0m \u001b[0mepochs\u001b[0m\u001b[0;34m=\u001b[0m\u001b[0mepochs\u001b[0m\u001b[0;34m,\u001b[0m \u001b[0mverbose\u001b[0m\u001b[0;34m=\u001b[0m\u001b[0;36m1\u001b[0m\u001b[0;34m)\u001b[0m\u001b[0;34m\u001b[0m\u001b[0m\n\u001b[0m",
      "\u001b[0;32m~/miniconda3/envs/reinforcement_learning/lib/python3.6/site-packages/keras/legacy/interfaces.py\u001b[0m in \u001b[0;36mwrapper\u001b[0;34m(*args, **kwargs)\u001b[0m\n\u001b[1;32m     89\u001b[0m                 warnings.warn('Update your `' + object_name +\n\u001b[1;32m     90\u001b[0m                               '` call to the Keras 2 API: ' + signature, stacklevel=2)\n\u001b[0;32m---> 91\u001b[0;31m             \u001b[0;32mreturn\u001b[0m \u001b[0mfunc\u001b[0m\u001b[0;34m(\u001b[0m\u001b[0;34m*\u001b[0m\u001b[0margs\u001b[0m\u001b[0;34m,\u001b[0m \u001b[0;34m**\u001b[0m\u001b[0mkwargs\u001b[0m\u001b[0;34m)\u001b[0m\u001b[0;34m\u001b[0m\u001b[0m\n\u001b[0m\u001b[1;32m     92\u001b[0m         \u001b[0mwrapper\u001b[0m\u001b[0;34m.\u001b[0m\u001b[0m_original_function\u001b[0m \u001b[0;34m=\u001b[0m \u001b[0mfunc\u001b[0m\u001b[0;34m\u001b[0m\u001b[0m\n\u001b[1;32m     93\u001b[0m         \u001b[0;32mreturn\u001b[0m \u001b[0mwrapper\u001b[0m\u001b[0;34m\u001b[0m\u001b[0m\n",
      "\u001b[0;32m~/miniconda3/envs/reinforcement_learning/lib/python3.6/site-packages/keras/engine/training.py\u001b[0m in \u001b[0;36mfit_generator\u001b[0;34m(self, generator, steps_per_epoch, epochs, verbose, callbacks, validation_data, validation_steps, class_weight, max_queue_size, workers, use_multiprocessing, shuffle, initial_epoch)\u001b[0m\n\u001b[1;32m   1413\u001b[0m             \u001b[0muse_multiprocessing\u001b[0m\u001b[0;34m=\u001b[0m\u001b[0muse_multiprocessing\u001b[0m\u001b[0;34m,\u001b[0m\u001b[0;34m\u001b[0m\u001b[0m\n\u001b[1;32m   1414\u001b[0m             \u001b[0mshuffle\u001b[0m\u001b[0;34m=\u001b[0m\u001b[0mshuffle\u001b[0m\u001b[0;34m,\u001b[0m\u001b[0;34m\u001b[0m\u001b[0m\n\u001b[0;32m-> 1415\u001b[0;31m             initial_epoch=initial_epoch)\n\u001b[0m\u001b[1;32m   1416\u001b[0m \u001b[0;34m\u001b[0m\u001b[0m\n\u001b[1;32m   1417\u001b[0m     \u001b[0;34m@\u001b[0m\u001b[0minterfaces\u001b[0m\u001b[0;34m.\u001b[0m\u001b[0mlegacy_generator_methods_support\u001b[0m\u001b[0;34m\u001b[0m\u001b[0m\n",
      "\u001b[0;32m~/miniconda3/envs/reinforcement_learning/lib/python3.6/site-packages/keras/engine/training_generator.py\u001b[0m in \u001b[0;36mfit_generator\u001b[0;34m(model, generator, steps_per_epoch, epochs, verbose, callbacks, validation_data, validation_steps, class_weight, max_queue_size, workers, use_multiprocessing, shuffle, initial_epoch)\u001b[0m\n\u001b[1;32m    175\u001b[0m             \u001b[0mbatch_index\u001b[0m \u001b[0;34m=\u001b[0m \u001b[0;36m0\u001b[0m\u001b[0;34m\u001b[0m\u001b[0m\n\u001b[1;32m    176\u001b[0m             \u001b[0;32mwhile\u001b[0m \u001b[0msteps_done\u001b[0m \u001b[0;34m<\u001b[0m \u001b[0msteps_per_epoch\u001b[0m\u001b[0;34m:\u001b[0m\u001b[0;34m\u001b[0m\u001b[0m\n\u001b[0;32m--> 177\u001b[0;31m                 \u001b[0mgenerator_output\u001b[0m \u001b[0;34m=\u001b[0m \u001b[0mnext\u001b[0m\u001b[0;34m(\u001b[0m\u001b[0moutput_generator\u001b[0m\u001b[0;34m)\u001b[0m\u001b[0;34m\u001b[0m\u001b[0m\n\u001b[0m\u001b[1;32m    178\u001b[0m \u001b[0;34m\u001b[0m\u001b[0m\n\u001b[1;32m    179\u001b[0m                 \u001b[0;32mif\u001b[0m \u001b[0;32mnot\u001b[0m \u001b[0mhasattr\u001b[0m\u001b[0;34m(\u001b[0m\u001b[0mgenerator_output\u001b[0m\u001b[0;34m,\u001b[0m \u001b[0;34m'__len__'\u001b[0m\u001b[0;34m)\u001b[0m\u001b[0;34m:\u001b[0m\u001b[0;34m\u001b[0m\u001b[0m\n",
      "\u001b[0;32m~/miniconda3/envs/reinforcement_learning/lib/python3.6/site-packages/keras/utils/data_utils.py\u001b[0m in \u001b[0;36mget\u001b[0;34m(self)\u001b[0m\n\u001b[1;32m    576\u001b[0m         \u001b[0;32mtry\u001b[0m\u001b[0;34m:\u001b[0m\u001b[0;34m\u001b[0m\u001b[0m\n\u001b[1;32m    577\u001b[0m             \u001b[0;32mwhile\u001b[0m \u001b[0mself\u001b[0m\u001b[0;34m.\u001b[0m\u001b[0mis_running\u001b[0m\u001b[0;34m(\u001b[0m\u001b[0;34m)\u001b[0m\u001b[0;34m:\u001b[0m\u001b[0;34m\u001b[0m\u001b[0m\n\u001b[0;32m--> 578\u001b[0;31m                 \u001b[0minputs\u001b[0m \u001b[0;34m=\u001b[0m \u001b[0mself\u001b[0m\u001b[0;34m.\u001b[0m\u001b[0mqueue\u001b[0m\u001b[0;34m.\u001b[0m\u001b[0mget\u001b[0m\u001b[0;34m(\u001b[0m\u001b[0mblock\u001b[0m\u001b[0;34m=\u001b[0m\u001b[0;32mTrue\u001b[0m\u001b[0;34m)\u001b[0m\u001b[0;34m.\u001b[0m\u001b[0mget\u001b[0m\u001b[0;34m(\u001b[0m\u001b[0;34m)\u001b[0m\u001b[0;34m\u001b[0m\u001b[0m\n\u001b[0m\u001b[1;32m    579\u001b[0m                 \u001b[0mself\u001b[0m\u001b[0;34m.\u001b[0m\u001b[0mqueue\u001b[0m\u001b[0;34m.\u001b[0m\u001b[0mtask_done\u001b[0m\u001b[0;34m(\u001b[0m\u001b[0;34m)\u001b[0m\u001b[0;34m\u001b[0m\u001b[0m\n\u001b[1;32m    580\u001b[0m                 \u001b[0;32mif\u001b[0m \u001b[0minputs\u001b[0m \u001b[0;32mis\u001b[0m \u001b[0;32mnot\u001b[0m \u001b[0;32mNone\u001b[0m\u001b[0;34m:\u001b[0m\u001b[0;34m\u001b[0m\u001b[0m\n",
      "\u001b[0;32m~/miniconda3/envs/reinforcement_learning/lib/python3.6/multiprocessing/pool.py\u001b[0m in \u001b[0;36mget\u001b[0;34m(self, timeout)\u001b[0m\n\u001b[1;32m    636\u001b[0m \u001b[0;34m\u001b[0m\u001b[0m\n\u001b[1;32m    637\u001b[0m     \u001b[0;32mdef\u001b[0m \u001b[0mget\u001b[0m\u001b[0;34m(\u001b[0m\u001b[0mself\u001b[0m\u001b[0;34m,\u001b[0m \u001b[0mtimeout\u001b[0m\u001b[0;34m=\u001b[0m\u001b[0;32mNone\u001b[0m\u001b[0;34m)\u001b[0m\u001b[0;34m:\u001b[0m\u001b[0;34m\u001b[0m\u001b[0m\n\u001b[0;32m--> 638\u001b[0;31m         \u001b[0mself\u001b[0m\u001b[0;34m.\u001b[0m\u001b[0mwait\u001b[0m\u001b[0;34m(\u001b[0m\u001b[0mtimeout\u001b[0m\u001b[0;34m)\u001b[0m\u001b[0;34m\u001b[0m\u001b[0m\n\u001b[0m\u001b[1;32m    639\u001b[0m         \u001b[0;32mif\u001b[0m \u001b[0;32mnot\u001b[0m \u001b[0mself\u001b[0m\u001b[0;34m.\u001b[0m\u001b[0mready\u001b[0m\u001b[0;34m(\u001b[0m\u001b[0;34m)\u001b[0m\u001b[0;34m:\u001b[0m\u001b[0;34m\u001b[0m\u001b[0m\n\u001b[1;32m    640\u001b[0m             \u001b[0;32mraise\u001b[0m \u001b[0mTimeoutError\u001b[0m\u001b[0;34m\u001b[0m\u001b[0m\n",
      "\u001b[0;32m~/miniconda3/envs/reinforcement_learning/lib/python3.6/multiprocessing/pool.py\u001b[0m in \u001b[0;36mwait\u001b[0;34m(self, timeout)\u001b[0m\n\u001b[1;32m    633\u001b[0m \u001b[0;34m\u001b[0m\u001b[0m\n\u001b[1;32m    634\u001b[0m     \u001b[0;32mdef\u001b[0m \u001b[0mwait\u001b[0m\u001b[0;34m(\u001b[0m\u001b[0mself\u001b[0m\u001b[0;34m,\u001b[0m \u001b[0mtimeout\u001b[0m\u001b[0;34m=\u001b[0m\u001b[0;32mNone\u001b[0m\u001b[0;34m)\u001b[0m\u001b[0;34m:\u001b[0m\u001b[0;34m\u001b[0m\u001b[0m\n\u001b[0;32m--> 635\u001b[0;31m         \u001b[0mself\u001b[0m\u001b[0;34m.\u001b[0m\u001b[0m_event\u001b[0m\u001b[0;34m.\u001b[0m\u001b[0mwait\u001b[0m\u001b[0;34m(\u001b[0m\u001b[0mtimeout\u001b[0m\u001b[0;34m)\u001b[0m\u001b[0;34m\u001b[0m\u001b[0m\n\u001b[0m\u001b[1;32m    636\u001b[0m \u001b[0;34m\u001b[0m\u001b[0m\n\u001b[1;32m    637\u001b[0m     \u001b[0;32mdef\u001b[0m \u001b[0mget\u001b[0m\u001b[0;34m(\u001b[0m\u001b[0mself\u001b[0m\u001b[0;34m,\u001b[0m \u001b[0mtimeout\u001b[0m\u001b[0;34m=\u001b[0m\u001b[0;32mNone\u001b[0m\u001b[0;34m)\u001b[0m\u001b[0;34m:\u001b[0m\u001b[0;34m\u001b[0m\u001b[0m\n",
      "\u001b[0;32m~/miniconda3/envs/reinforcement_learning/lib/python3.6/threading.py\u001b[0m in \u001b[0;36mwait\u001b[0;34m(self, timeout)\u001b[0m\n\u001b[1;32m    549\u001b[0m             \u001b[0msignaled\u001b[0m \u001b[0;34m=\u001b[0m \u001b[0mself\u001b[0m\u001b[0;34m.\u001b[0m\u001b[0m_flag\u001b[0m\u001b[0;34m\u001b[0m\u001b[0m\n\u001b[1;32m    550\u001b[0m             \u001b[0;32mif\u001b[0m \u001b[0;32mnot\u001b[0m \u001b[0msignaled\u001b[0m\u001b[0;34m:\u001b[0m\u001b[0;34m\u001b[0m\u001b[0m\n\u001b[0;32m--> 551\u001b[0;31m                 \u001b[0msignaled\u001b[0m \u001b[0;34m=\u001b[0m \u001b[0mself\u001b[0m\u001b[0;34m.\u001b[0m\u001b[0m_cond\u001b[0m\u001b[0;34m.\u001b[0m\u001b[0mwait\u001b[0m\u001b[0;34m(\u001b[0m\u001b[0mtimeout\u001b[0m\u001b[0;34m)\u001b[0m\u001b[0;34m\u001b[0m\u001b[0m\n\u001b[0m\u001b[1;32m    552\u001b[0m             \u001b[0;32mreturn\u001b[0m \u001b[0msignaled\u001b[0m\u001b[0;34m\u001b[0m\u001b[0m\n\u001b[1;32m    553\u001b[0m \u001b[0;34m\u001b[0m\u001b[0m\n",
      "\u001b[0;32m~/miniconda3/envs/reinforcement_learning/lib/python3.6/threading.py\u001b[0m in \u001b[0;36mwait\u001b[0;34m(self, timeout)\u001b[0m\n\u001b[1;32m    293\u001b[0m         \u001b[0;32mtry\u001b[0m\u001b[0;34m:\u001b[0m    \u001b[0;31m# restore state no matter what (e.g., KeyboardInterrupt)\u001b[0m\u001b[0;34m\u001b[0m\u001b[0m\n\u001b[1;32m    294\u001b[0m             \u001b[0;32mif\u001b[0m \u001b[0mtimeout\u001b[0m \u001b[0;32mis\u001b[0m \u001b[0;32mNone\u001b[0m\u001b[0;34m:\u001b[0m\u001b[0;34m\u001b[0m\u001b[0m\n\u001b[0;32m--> 295\u001b[0;31m                 \u001b[0mwaiter\u001b[0m\u001b[0;34m.\u001b[0m\u001b[0macquire\u001b[0m\u001b[0;34m(\u001b[0m\u001b[0;34m)\u001b[0m\u001b[0;34m\u001b[0m\u001b[0m\n\u001b[0m\u001b[1;32m    296\u001b[0m                 \u001b[0mgotit\u001b[0m \u001b[0;34m=\u001b[0m \u001b[0;32mTrue\u001b[0m\u001b[0;34m\u001b[0m\u001b[0m\n\u001b[1;32m    297\u001b[0m             \u001b[0;32melse\u001b[0m\u001b[0;34m:\u001b[0m\u001b[0;34m\u001b[0m\u001b[0m\n",
      "\u001b[0;31mKeyboardInterrupt\u001b[0m: "
     ]
    }
   ],
   "source": [
    "model.fit_generator(sequence, epochs=epochs, verbose=1)"
   ]
  },
  {
   "cell_type": "code",
   "execution_count": 20,
   "metadata": {},
   "outputs": [],
   "source": [
    "#model.save_weights('conv1D_dense_38epochs.h5')"
   ]
  },
  {
   "cell_type": "code",
   "execution_count": null,
   "metadata": {},
   "outputs": [],
   "source": [
    "model.predict(np.array([get_state(wd)]))[1][0][0]"
   ]
  },
  {
   "cell_type": "code",
   "execution_count": null,
   "metadata": {},
   "outputs": [],
   "source": [
    "[get_state(wd)].shape"
   ]
  },
  {
   "cell_type": "code",
   "execution_count": null,
   "metadata": {},
   "outputs": [],
   "source": [
    "test = np.random.rand(3, 5, 2)"
   ]
  },
  {
   "cell_type": "code",
   "execution_count": null,
   "metadata": {},
   "outputs": [],
   "source": [
    "test"
   ]
  },
  {
   "cell_type": "code",
   "execution_count": null,
   "metadata": {},
   "outputs": [],
   "source": [
    "test[:, 3, :]"
   ]
  },
  {
   "cell_type": "code",
   "execution_count": null,
   "metadata": {},
   "outputs": [],
   "source": [
    "test.reshape([3, 1, 5])[:, :, 0]"
   ]
  },
  {
   "cell_type": "code",
   "execution_count": null,
   "metadata": {},
   "outputs": [],
   "source": [
    "in_state = []\n",
    "state = get_state(wd)"
   ]
  },
  {
   "cell_type": "code",
   "execution_count": null,
   "metadata": {},
   "outputs": [],
   "source": [
    "state"
   ]
  },
  {
   "cell_type": "code",
   "execution_count": null,
   "metadata": {},
   "outputs": [],
   "source": [
    "in_state.append(state)"
   ]
  },
  {
   "cell_type": "code",
   "execution_count": null,
   "metadata": {},
   "outputs": [],
   "source": [
    "in_state"
   ]
  },
  {
   "cell_type": "code",
   "execution_count": null,
   "metadata": {},
   "outputs": [],
   "source": [
    "np.array(in_state)"
   ]
  },
  {
   "cell_type": "code",
   "execution_count": null,
   "metadata": {},
   "outputs": [],
   "source": [
    "state1 = get_state(wd)"
   ]
  },
  {
   "cell_type": "code",
   "execution_count": null,
   "metadata": {},
   "outputs": [],
   "source": [
    "state2 = get_state(wd)"
   ]
  },
  {
   "cell_type": "code",
   "execution_count": null,
   "metadata": {},
   "outputs": [],
   "source": [
    "np.append(state1, state2).reshape([1, 8])"
   ]
  },
  {
   "cell_type": "code",
   "execution_count": null,
   "metadata": {},
   "outputs": [],
   "source": [
    "state1.shape"
   ]
  },
  {
   "cell_type": "code",
   "execution_count": null,
   "metadata": {},
   "outputs": [],
   "source": [
    "model.predict(get_state(wd).reshape([1, 1, 4]))[0]"
   ]
  },
  {
   "cell_type": "code",
   "execution_count": null,
   "metadata": {},
   "outputs": [],
   "source": [
    "s = get_state(wd)"
   ]
  },
  {
   "cell_type": "code",
   "execution_count": null,
   "metadata": {},
   "outputs": [],
   "source": [
    "state_h = get_state(wd)"
   ]
  },
  {
   "cell_type": "code",
   "execution_count": null,
   "metadata": {},
   "outputs": [],
   "source": [
    "state_h = np.append(state_h, s, axis=0)"
   ]
  },
  {
   "cell_type": "code",
   "execution_count": null,
   "metadata": {},
   "outputs": [],
   "source": [
    "model.predict(state_h.reshape([1, state_h.shape[0], state_h.shape[1]]))[0][0].shape"
   ]
  },
  {
   "cell_type": "code",
   "execution_count": null,
   "metadata": {},
   "outputs": [],
   "source": [
    "state_h"
   ]
  },
  {
   "cell_type": "code",
   "execution_count": null,
   "metadata": {},
   "outputs": [],
   "source": [
    "form = np.full([sequence_len, state_len], empty)"
   ]
  },
  {
   "cell_type": "code",
   "execution_count": null,
   "metadata": {},
   "outputs": [],
   "source": [
    "form"
   ]
  },
  {
   "cell_type": "code",
   "execution_count": null,
   "metadata": {},
   "outputs": [],
   "source": [
    "form = np.append(form[1:], get_state(wd), axis=0)"
   ]
  },
  {
   "cell_type": "code",
   "execution_count": null,
   "metadata": {},
   "outputs": [],
   "source": [
    "form"
   ]
  },
  {
   "cell_type": "code",
   "execution_count": null,
   "metadata": {},
   "outputs": [],
   "source": [
    "form = np.append(form[1:], get_state(wd),  axis=0)"
   ]
  },
  {
   "cell_type": "code",
   "execution_count": null,
   "metadata": {},
   "outputs": [],
   "source": [
    "model.predict(form.reshape([1, form.shape[0], form.shape[1]]))"
   ]
  },
  {
   "cell_type": "code",
   "execution_count": null,
   "metadata": {},
   "outputs": [],
   "source": [
    "get_state(wd)[0][2:]"
   ]
  },
  {
   "cell_type": "code",
   "execution_count": null,
   "metadata": {},
   "outputs": [],
   "source": [
    "form"
   ]
  },
  {
   "cell_type": "code",
   "execution_count": null,
   "metadata": {},
   "outputs": [],
   "source": [
    "form[-1, 2:]"
   ]
  },
  {
   "cell_type": "code",
   "execution_count": 9,
   "metadata": {},
   "outputs": [
    {
     "data": {
      "text/plain": [
       "array([[ 0.39545455,  0.59907834, -0.5       , -0.21198157],\n",
       "       [ 0.39545455,  0.59907834, -0.5       , -0.21198157],\n",
       "       [ 0.39545455,  0.59907834, -0.5       , -0.21198157],\n",
       "       [ 0.39545455,  0.59907834, -0.5       , -0.21198157],\n",
       "       [ 0.39545455,  0.59907834, -0.5       , -0.21198157],\n",
       "       [ 0.39545455,  0.59907834, -0.5       , -0.21198157]])"
      ]
     },
     "execution_count": 9,
     "metadata": {},
     "output_type": "execute_result"
    }
   ],
   "source": [
    "np.full([sequence_len, state_len], get_state(wd))"
   ]
  },
  {
   "cell_type": "code",
   "execution_count": null,
   "metadata": {},
   "outputs": [],
   "source": []
  }
 ],
 "metadata": {
  "kernelspec": {
   "display_name": "Python 3",
   "language": "python",
   "name": "python3"
  },
  "language_info": {
   "codemirror_mode": {
    "name": "ipython",
    "version": 3
   },
   "file_extension": ".py",
   "mimetype": "text/x-python",
   "name": "python",
   "nbconvert_exporter": "python",
   "pygments_lexer": "ipython3",
   "version": "3.6.6"
  }
 },
 "nbformat": 4,
 "nbformat_minor": 2
}
