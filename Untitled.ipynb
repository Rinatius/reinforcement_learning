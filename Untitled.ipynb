{
 "cells": [
  {
   "cell_type": "code",
   "execution_count": 1,
   "metadata": {},
   "outputs": [],
   "source": [
    "import sys\n",
    "sys.path.insert(0,'/usr/lib/chromium-browser/chromedriver')\n",
    "from selenium import webdriver"
   ]
  },
  {
   "cell_type": "code",
   "execution_count": 2,
   "metadata": {},
   "outputs": [],
   "source": [
    "from IPython.display import Image\n",
    "from selenium.webdriver.common.keys import Keys\n",
    "import numpy as np\n",
    "import time"
   ]
  },
  {
   "cell_type": "code",
   "execution_count": 3,
   "metadata": {},
   "outputs": [
    {
     "name": "stderr",
     "output_type": "stream",
     "text": [
      "Using TensorFlow backend.\n"
     ]
    }
   ],
   "source": [
    "import keras\n",
    "from keras.layers import Dense, Flatten, Dropout, MaxPooling1D, Conv1D, Input, LSTM\n",
    "from keras.models import Model\n",
    "from keras.layers.merge import concatenate\n",
    "from keras.utils import Sequence\n",
    "from keras import backend as K\n",
    "from IPython.display import SVG\n",
    "from keras.utils.vis_utils import model_to_dot\n",
    "from keras.preprocessing.sequence import pad_sequences"
   ]
  },
  {
   "cell_type": "code",
   "execution_count": 4,
   "metadata": {},
   "outputs": [],
   "source": [
    "wd = webdriver.Chrome()"
   ]
  },
  {
   "cell_type": "code",
   "execution_count": 5,
   "metadata": {},
   "outputs": [],
   "source": [
    "wd.get(\"https://rinatius.github.io/4magnets/\")"
   ]
  },
  {
   "cell_type": "code",
   "execution_count": 6,
   "metadata": {},
   "outputs": [
    {
     "data": {
      "image/png": "[encoded data removed]",
      "text/plain": [
       "<IPython.core.display.Image object>"
      ]
     },
     "execution_count": 6,
     "metadata": {},
     "output_type": "execute_result"
    }
   ],
   "source": [
    "Image(wd.get_screenshot_as_png())"
   ]
  },
  {
   "cell_type": "code",
   "execution_count": 7,
   "metadata": {},
   "outputs": [],
   "source": [
    "X_MIN = 120\n",
    "X_MAX = 340\n",
    "Y_MIN = 56\n",
    "Y_MAX = 273\n",
    "multiplier = 100\n",
    "\n",
    "def write_value(value, element):\n",
    "    select_all_symbols(element)\n",
    "    element.send_keys(str(int(value)))\n",
    "\n",
    "def select_all_symbols(element):\n",
    "    element.click()\n",
    "    element.send_keys(Keys.END)\n",
    "    element.send_keys(Keys.SHIFT + Keys.HOME)\n",
    "\n",
    "def get_state(wd):\n",
    "    values = []\n",
    "    values.append((float(wd.find_element_by_xpath(\"/html/body/input[2]\").get_attribute(\"value\")) - X_MIN)/(X_MAX - X_MIN))\n",
    "    values.append((float(wd.find_element_by_xpath(\"/html/body/input[3]\").get_attribute(\"value\")) - Y_MIN)/(Y_MAX - Y_MIN))\n",
    "    values.append((float(wd.find_element_by_xpath(\"/html/body/input[4]\").get_attribute(\"value\")) - X_MIN)/(X_MAX - X_MIN))\n",
    "    values.append((float(wd.find_element_by_xpath(\"/html/body/input[5]\").get_attribute(\"value\")) - Y_MIN)/(Y_MAX - Y_MIN))\n",
    "    return np.array(values).reshape(1, len(values))\n",
    "\n",
    "def act(wd, actions, multiplier=multiplier):\n",
    "    left = wd.find_element_by_xpath(\"/html/body/input[1]\")\n",
    "    right = wd.find_element_by_xpath(\"/html/body/input[6]\")\n",
    "    top = wd.find_element_by_xpath(\"/html/body/input[7]\")\n",
    "    bottom = wd.find_element_by_xpath(\"/html/body/input[8]\")\n",
    "    \n",
    "    write_value(actions[0]*multiplier, left)\n",
    "    write_value(actions[1]*multiplier, right)\n",
    "    write_value(actions[2]*multiplier, top)\n",
    "    write_value(actions[3]*multiplier, bottom)\n",
    "\n",
    "def randomize_element(wd, x_el, y_el):\n",
    "    x_element = wd.find_element_by_xpath(\"/html/body/input[\"+x_el+\"]\")\n",
    "    y_element = wd.find_element_by_xpath(\"/html/body/input[\"+y_el+\"]\")\n",
    "    x = int(np.random.rand() * (X_MAX - X_MIN) + X_MIN)\n",
    "    y = int(np.random.rand() * (Y_MAX - Y_MIN) + Y_MIN)\n",
    "    write_value(x, x_element)\n",
    "    write_value(y, y_element)\n",
    "\n",
    "def random_target(wd):\n",
    "    randomize_element(wd, '2', '3')\n",
    "    \n",
    "def random_position(wd):\n",
    "    randomize_element(wd, '13', '14')\n",
    "    \n",
    "def show_prediction(wd, xy):\n",
    "    x = wd.find_element_by_xpath(\"/html/body/input[9]\")\n",
    "    y = wd.find_element_by_xpath(\"/html/body/input[10]\")\n",
    "    \n",
    "    write_value(int(xy[0] * (X_MAX - X_MIN) + X_MIN), x)\n",
    "    write_value(int(xy[1] * (Y_MAX - Y_MIN) + Y_MIN), y)\n",
    "    \n",
    "def start_sim(wd):\n",
    "    wd.find_element_by_xpath(\"/html/body/input[12]\").click()\n",
    "    "
   ]
  },
  {
   "cell_type": "code",
   "execution_count": 8,
   "metadata": {},
   "outputs": [],
   "source": [
    "state_len = get_state(wd).shape[1]\n",
    "num_commands = 4\n",
    "sequence_len = 6\n",
    "batch_size = 1\n",
    "batches = 10\n",
    "epochs = 50\n",
    "dropout = 0.2\n",
    "empty = -1"
   ]
  },
  {
   "cell_type": "code",
   "execution_count": 23,
   "metadata": {},
   "outputs": [],
   "source": [
    "def control_reproduction_loss(y_true, y_pred):\n",
    "    return K.mean(K.square(y_pred - y_true))\n",
    "\n",
    "'''def prediction_loss(y_true, y_pred):\n",
    "    prediction_accuracy = K.mean(K.sum(K.square(y_pred - y_true[:, 3])))\n",
    "    square_distance_to_target = K.mean(K.sum(K.square(y_pred - y_true[:, 0])))\n",
    "    combined_loss = K.exp(prediction_accuracy)*square_distance_to_target\n",
    "    return combined_loss'''\n",
    "\n",
    "def prediction_loss(y_true, y_pred):\n",
    "    prediction_accuracy = K.mean(K.sum(K.square(y_pred - y_true[:, 3, :])))\n",
    "    #square_distance_to_target = K.mean(K.sum(K.square(y_pred - y_true[:, 0])))\n",
    "    combined_loss = prediction_accuracy\n",
    "    return combined_loss\n",
    "\n",
    "def prediction_accuracy(y_true, y_pred):\n",
    "    return K.mean(K.sum(K.square(y_pred - y_true[:, 3, :])))\n",
    "\n",
    "def distance_to_target(y_true, y_pred):\n",
    "    return K.mean(K.sum(K.square(y_true[:, 0, :] - y_true[:, 3, :])))\n",
    "\n",
    "def predicted_distance_to_target(y_true, y_pred):\n",
    "    return K.mean(K.sum(K.square(y_pred - y_true[:, 0, :])))\n",
    "\n",
    "def prediction_reproduction(y_true, y_pred):\n",
    "    return K.mean(K.sum(K.square(y_pred - y_true[:, 4, :])))"
   ]
  },
  {
   "cell_type": "code",
   "execution_count": 24,
   "metadata": {},
   "outputs": [],
   "source": [
    "class WDSequence(Sequence):\n",
    "\n",
    "    def __init__(self,\n",
    "                 wd,\n",
    "                 model,\n",
    "                 batches,\n",
    "                 batch_size):\n",
    "        self.model = model\n",
    "        self.wd = wd\n",
    "        self.batches = batches\n",
    "        self.batch_size = batch_size        \n",
    "\n",
    "    def __len__(self):\n",
    "        return self.batches\n",
    "\n",
    "    def __getitem__(self, idx):\n",
    "        \n",
    "        self.wd.get(\"https://rinatius.github.io/4magnets/\")\n",
    "        time.sleep(7)\n",
    "        random_target(self.wd)\n",
    "        random_position(self.wd)\n",
    "        start_sim(self.wd)\n",
    "        state = np.full([sequence_len, state_len], empty)\n",
    "        \n",
    "        in_state = []\n",
    "        out_control = []\n",
    "        out_prediction = []\n",
    "        \n",
    "        for i in range(batch_size):  \n",
    "\n",
    "            state = np.append(state[1:], get_state(wd), axis=0)\n",
    "\n",
    "\n",
    "            target = state[-1, :2]\n",
    "            position = state[-1, 2:]\n",
    "\n",
    "\n",
    "            y_pred = self.model.predict(state.reshape([1, state.shape[0], state.shape[1]]))\n",
    "            actions = y_pred[0][0]\n",
    "\n",
    "            act(wd, actions)\n",
    "            show_prediction(wd, y_pred[1][0])\n",
    "            time.sleep(0.3)\n",
    "\n",
    "            new_state = get_state(wd)\n",
    "            new_target = new_state[0][:2]\n",
    "            new_position = new_state[0][2:]\n",
    "\n",
    "            predicted_position = y_pred[1][0]\n",
    "\n",
    "            in_state.append(state)\n",
    "            out_control.append(actions)\n",
    "            out_prediction.append([target, position, new_target, new_position, predicted_position])\n",
    "       \n",
    "        \n",
    "        return ({'in_state': np.array(in_state)}, \n",
    "                {'out_control': np.array(out_control), \n",
    "                 'out_prediction': np.array(out_prediction)} )"
   ]
  },
  {
   "cell_type": "code",
   "execution_count": 11,
   "metadata": {},
   "outputs": [],
   "source": [
    "#input_shape = [1, 8]"
   ]
  },
  {
   "cell_type": "code",
   "execution_count": 29,
   "metadata": {},
   "outputs": [],
   "source": [
    "#in_state = LSTM(4, input_shape=(None, 4), return_sequences=True, name='in_state')\n",
    "in_state = Input(shape=(None, 4), name='in_state')\n",
    "first_lstm = LSTM(128, return_sequences=True, name='first_lstm')(in_state)\n",
    "l = LSTM(128)(first_lstm)\n",
    "l = Dense(128, activation='relu')(l)\n",
    "out_control = Dense(num_commands, activation='sigmoid', name='out_control')(l)\n",
    "last_lstm = LSTM(128, name='last_lstm')(first_lstm)\n",
    "l = concatenate([last_lstm, out_control])\n",
    "l = Dense(128, activation='relu')(l)\n",
    "out_prediction = Dense(2, activation='sigmoid', name='out_prediction')(l)"
   ]
  },
  {
   "cell_type": "code",
   "execution_count": 13,
   "metadata": {
    "scrolled": true
   },
   "outputs": [
    {
     "name": "stdout",
     "output_type": "stream",
     "text": [
      "__________________________________________________________________________________________________\n",
      "Layer (type)                    Output Shape         Param #     Connected to                     \n",
      "==================================================================================================\n",
      "in_state (InputLayer)           (None, None, 4)      0                                            \n",
      "__________________________________________________________________________________________________\n",
      "first_lstm (LSTM)               (None, None, 128)    68096       in_state[0][0]                   \n",
      "__________________________________________________________________________________________________\n",
      "lstm_1 (LSTM)                   (None, 128)          131584      first_lstm[0][0]                 \n",
      "__________________________________________________________________________________________________\n",
      "dense_1 (Dense)                 (None, 128)          16512       lstm_1[0][0]                     \n",
      "__________________________________________________________________________________________________\n",
      "out_control (Dense)             (None, 4)            516         dense_1[0][0]                    \n",
      "__________________________________________________________________________________________________\n",
      "last_lstm (LSTM)                (None, 128)          131584      first_lstm[0][0]                 \n",
      "__________________________________________________________________________________________________\n",
      "concatenate_1 (Concatenate)     (None, 132)          0           last_lstm[0][0]                  \n",
      "                                                                 out_control[0][0]                \n",
      "__________________________________________________________________________________________________\n",
      "dense_2 (Dense)                 (None, 128)          17024       concatenate_1[0][0]              \n",
      "__________________________________________________________________________________________________\n",
      "out_prediction (Dense)          (None, 2)            258         dense_2[0][0]                    \n",
      "==================================================================================================\n",
      "Total params: 365,574\n",
      "Trainable params: 365,574\n",
      "Non-trainable params: 0\n",
      "__________________________________________________________________________________________________\n"
     ]
    }
   ],
   "source": [
    "model = Model(inputs=[in_state],\n",
    "              outputs=[out_control, out_prediction])\n",
    "model.summary()\n"
   ]
  },
  {
   "cell_type": "code",
   "execution_count": 14,
   "metadata": {},
   "outputs": [
    {
     "data": {
      "image/svg+xml": [
       "<svg height=\"556pt\" viewBox=\"0.00 0.00 238.00 556.00\" width=\"238pt\" xmlns=\"http://www.w3.org/2000/svg\" xmlns:xlink=\"http://www.w3.org/1999/xlink\">\n",
       "<g class=\"graph\" id=\"graph0\" transform=\"scale(1 1) rotate(0) translate(4 552)\">\n",
       "<title>G</title>\n",
       "<polygon fill=\"#ffffff\" points=\"-4,4 -4,-552 234,-552 234,4 -4,4\" stroke=\"transparent\"/>\n",
       "<!-- 140195001854664 -->\n",
       "<g class=\"node\" id=\"node1\">\n",
       "<title>140195001854664</title>\n",
       "<polygon fill=\"none\" points=\"50,-511.5 50,-547.5 176,-547.5 176,-511.5 50,-511.5\" stroke=\"#000000\"/>\n",
       "<text fill=\"#000000\" font-family=\"Times,serif\" font-size=\"14.00\" text-anchor=\"middle\" x=\"113\" y=\"-525.8\">in_state: InputLayer</text>\n",
       "</g>\n",
       "<!-- 140195001854944 -->\n",
       "<g class=\"node\" id=\"node2\">\n",
       "<title>140195001854944</title>\n",
       "<polygon fill=\"none\" points=\"56.5,-438.5 56.5,-474.5 169.5,-474.5 169.5,-438.5 56.5,-438.5\" stroke=\"#000000\"/>\n",
       "<text fill=\"#000000\" font-family=\"Times,serif\" font-size=\"14.00\" text-anchor=\"middle\" x=\"113\" y=\"-452.8\">first_lstm: LSTM</text>\n",
       "</g>\n",
       "<!-- 140195001854664&#45;&gt;140195001854944 -->\n",
       "<g class=\"edge\" id=\"edge1\">\n",
       "<title>140195001854664-&gt;140195001854944</title>\n",
       "<path d=\"M113,-511.4551C113,-503.3828 113,-493.6764 113,-484.6817\" fill=\"none\" stroke=\"#000000\"/>\n",
       "<polygon fill=\"#000000\" points=\"116.5001,-484.5903 113,-474.5904 109.5001,-484.5904 116.5001,-484.5903\" stroke=\"#000000\"/>\n",
       "</g>\n",
       "<!-- 140195001855784 -->\n",
       "<g class=\"node\" id=\"node3\">\n",
       "<title>140195001855784</title>\n",
       "<polygon fill=\"none\" points=\"14,-365.5 14,-401.5 112,-401.5 112,-365.5 14,-365.5\" stroke=\"#000000\"/>\n",
       "<text fill=\"#000000\" font-family=\"Times,serif\" font-size=\"14.00\" text-anchor=\"middle\" x=\"63\" y=\"-379.8\">lstm_1: LSTM</text>\n",
       "</g>\n",
       "<!-- 140195001854944&#45;&gt;140195001855784 -->\n",
       "<g class=\"edge\" id=\"edge2\">\n",
       "<title>140195001854944-&gt;140195001855784</title>\n",
       "<path d=\"M100.6404,-438.4551C94.7509,-429.8564 87.5913,-419.4034 81.1039,-409.9316\" fill=\"none\" stroke=\"#000000\"/>\n",
       "<polygon fill=\"#000000\" points=\"83.9292,-407.8628 75.3907,-401.5904 78.154,-411.8185 83.9292,-407.8628\" stroke=\"#000000\"/>\n",
       "</g>\n",
       "<!-- 140194980764416 -->\n",
       "<g class=\"node\" id=\"node6\">\n",
       "<title>140194980764416</title>\n",
       "<polygon fill=\"none\" points=\"120,-292.5 120,-328.5 230,-328.5 230,-292.5 120,-292.5\" stroke=\"#000000\"/>\n",
       "<text fill=\"#000000\" font-family=\"Times,serif\" font-size=\"14.00\" text-anchor=\"middle\" x=\"175\" y=\"-306.8\">last_lstm: LSTM</text>\n",
       "</g>\n",
       "<!-- 140195001854944&#45;&gt;140194980764416 -->\n",
       "<g class=\"edge\" id=\"edge5\">\n",
       "<title>140195001854944-&gt;140194980764416</title>\n",
       "<path d=\"M120.727,-438.3042C131.4012,-413.1682 150.7508,-367.6029 163.2296,-338.2175\" fill=\"none\" stroke=\"#000000\"/>\n",
       "<polygon fill=\"#000000\" points=\"166.4884,-339.4976 167.1756,-328.9251 160.0453,-336.7615 166.4884,-339.4976\" stroke=\"#000000\"/>\n",
       "</g>\n",
       "<!-- 140195004291448 -->\n",
       "<g class=\"node\" id=\"node4\">\n",
       "<title>140195004291448</title>\n",
       "<polygon fill=\"none\" points=\"0,-292.5 0,-328.5 102,-328.5 102,-292.5 0,-292.5\" stroke=\"#000000\"/>\n",
       "<text fill=\"#000000\" font-family=\"Times,serif\" font-size=\"14.00\" text-anchor=\"middle\" x=\"51\" y=\"-306.8\">dense_1: Dense</text>\n",
       "</g>\n",
       "<!-- 140195001855784&#45;&gt;140195004291448 -->\n",
       "<g class=\"edge\" id=\"edge3\">\n",
       "<title>140195001855784-&gt;140195004291448</title>\n",
       "<path d=\"M60.0337,-365.4551C58.7068,-357.3828 57.1112,-347.6764 55.6326,-338.6817\" fill=\"none\" stroke=\"#000000\"/>\n",
       "<polygon fill=\"#000000\" points=\"59.0496,-337.8902 53.9738,-328.5904 52.1423,-339.0257 59.0496,-337.8902\" stroke=\"#000000\"/>\n",
       "</g>\n",
       "<!-- 140194982427784 -->\n",
       "<g class=\"node\" id=\"node5\">\n",
       "<title>140194982427784</title>\n",
       "<polygon fill=\"none\" points=\"9,-219.5 9,-255.5 129,-255.5 129,-219.5 9,-219.5\" stroke=\"#000000\"/>\n",
       "<text fill=\"#000000\" font-family=\"Times,serif\" font-size=\"14.00\" text-anchor=\"middle\" x=\"69\" y=\"-233.8\">out_control: Dense</text>\n",
       "</g>\n",
       "<!-- 140195004291448&#45;&gt;140194982427784 -->\n",
       "<g class=\"edge\" id=\"edge4\">\n",
       "<title>140195004291448-&gt;140194982427784</title>\n",
       "<path d=\"M55.4494,-292.4551C57.4615,-284.2951 59.8853,-274.4652 62.1233,-265.3887\" fill=\"none\" stroke=\"#000000\"/>\n",
       "<polygon fill=\"#000000\" points=\"65.5435,-266.1375 64.5394,-255.5904 58.747,-264.4616 65.5435,-266.1375\" stroke=\"#000000\"/>\n",
       "</g>\n",
       "<!-- 140194903864432 -->\n",
       "<g class=\"node\" id=\"node7\">\n",
       "<title>140194903864432</title>\n",
       "<polygon fill=\"none\" points=\"29,-146.5 29,-182.5 197,-182.5 197,-146.5 29,-146.5\" stroke=\"#000000\"/>\n",
       "<text fill=\"#000000\" font-family=\"Times,serif\" font-size=\"14.00\" text-anchor=\"middle\" x=\"113\" y=\"-160.8\">concatenate_1: Concatenate</text>\n",
       "</g>\n",
       "<!-- 140194982427784&#45;&gt;140194903864432 -->\n",
       "<g class=\"edge\" id=\"edge7\">\n",
       "<title>140194982427784-&gt;140194903864432</title>\n",
       "<path d=\"M79.8764,-219.4551C85.0063,-210.9441 91.2312,-200.6165 96.8936,-191.2219\" fill=\"none\" stroke=\"#000000\"/>\n",
       "<polygon fill=\"#000000\" points=\"99.9316,-192.9617 102.0962,-182.5904 93.9364,-189.3481 99.9316,-192.9617\" stroke=\"#000000\"/>\n",
       "</g>\n",
       "<!-- 140194980764416&#45;&gt;140194903864432 -->\n",
       "<g class=\"edge\" id=\"edge6\">\n",
       "<title>140194980764416-&gt;140194903864432</title>\n",
       "<path d=\"M167.8733,-292.1694C160.596,-273.6231 148.8572,-244.1746 138,-219 134.1661,-210.1104 129.8185,-200.4871 125.8363,-191.8364\" fill=\"none\" stroke=\"#000000\"/>\n",
       "<polygon fill=\"#000000\" points=\"128.9236,-190.1742 121.5425,-182.5736 122.5728,-193.1182 128.9236,-190.1742\" stroke=\"#000000\"/>\n",
       "</g>\n",
       "<!-- 140194902695720 -->\n",
       "<g class=\"node\" id=\"node8\">\n",
       "<title>140194902695720</title>\n",
       "<polygon fill=\"none\" points=\"62,-73.5 62,-109.5 164,-109.5 164,-73.5 62,-73.5\" stroke=\"#000000\"/>\n",
       "<text fill=\"#000000\" font-family=\"Times,serif\" font-size=\"14.00\" text-anchor=\"middle\" x=\"113\" y=\"-87.8\">dense_2: Dense</text>\n",
       "</g>\n",
       "<!-- 140194903864432&#45;&gt;140194902695720 -->\n",
       "<g class=\"edge\" id=\"edge8\">\n",
       "<title>140194903864432-&gt;140194902695720</title>\n",
       "<path d=\"M113,-146.4551C113,-138.3828 113,-128.6764 113,-119.6817\" fill=\"none\" stroke=\"#000000\"/>\n",
       "<polygon fill=\"#000000\" points=\"116.5001,-119.5903 113,-109.5904 109.5001,-119.5904 116.5001,-119.5903\" stroke=\"#000000\"/>\n",
       "</g>\n",
       "<!-- 140194903974912 -->\n",
       "<g class=\"node\" id=\"node9\">\n",
       "<title>140194903974912</title>\n",
       "<polygon fill=\"none\" points=\"44.5,-.5 44.5,-36.5 181.5,-36.5 181.5,-.5 44.5,-.5\" stroke=\"#000000\"/>\n",
       "<text fill=\"#000000\" font-family=\"Times,serif\" font-size=\"14.00\" text-anchor=\"middle\" x=\"113\" y=\"-14.8\">out_prediction: Dense</text>\n",
       "</g>\n",
       "<!-- 140194902695720&#45;&gt;140194903974912 -->\n",
       "<g class=\"edge\" id=\"edge9\">\n",
       "<title>140194902695720-&gt;140194903974912</title>\n",
       "<path d=\"M113,-73.4551C113,-65.3828 113,-55.6764 113,-46.6817\" fill=\"none\" stroke=\"#000000\"/>\n",
       "<polygon fill=\"#000000\" points=\"116.5001,-46.5903 113,-36.5904 109.5001,-46.5904 116.5001,-46.5903\" stroke=\"#000000\"/>\n",
       "</g>\n",
       "</g>\n",
       "</svg>"
      ],
      "text/plain": [
       "<IPython.core.display.SVG object>"
      ]
     },
     "execution_count": 14,
     "metadata": {},
     "output_type": "execute_result"
    }
   ],
   "source": [
    "SVG(model_to_dot(model).create(prog='dot', format='svg'))"
   ]
  },
  {
   "cell_type": "code",
   "execution_count": 15,
   "metadata": {},
   "outputs": [],
   "source": [
    "model.compile(loss={'out_control': control_reproduction_loss,\n",
    "                    'out_prediction': prediction_loss},\n",
    "              loss_weights={'out_control': 0,\n",
    "                            'out_prediction': 1},\n",
    "              optimizer=keras.optimizers.Adam(),\n",
    "              metrics={'out_prediction': [prediction_accuracy,\n",
    "                                          distance_to_target, \n",
    "                                          predicted_distance_to_target,\n",
    "                                          prediction_reproduction]})"
   ]
  },
  {
   "cell_type": "code",
   "execution_count": 16,
   "metadata": {},
   "outputs": [],
   "source": [
    "#model.load_weights('2steps_dense.h5')"
   ]
  },
  {
   "cell_type": "code",
   "execution_count": 26,
   "metadata": {},
   "outputs": [],
   "source": [
    "sequence = WDSequence(wd, model, batches=batches, batch_size=batch_size)"
   ]
  },
  {
   "cell_type": "code",
   "execution_count": 18,
   "metadata": {
    "scrolled": true
   },
   "outputs": [
    {
     "data": {
      "text/plain": [
       "[array([[0.49995393, 0.5008724 , 0.5000301 , 0.50093514]], dtype=float32),\n",
       " array([[0.50435144, 0.50523317]], dtype=float32)]"
      ]
     },
     "execution_count": 18,
     "metadata": {},
     "output_type": "execute_result"
    }
   ],
   "source": [
    "s = get_state(wd)\n",
    "model.predict(np.array(s.reshape(1, s.shape[0], s.shape[1])))"
   ]
  },
  {
   "cell_type": "code",
   "execution_count": 27,
   "metadata": {
    "scrolled": false
   },
   "outputs": [
    {
     "name": "stdout",
     "output_type": "stream",
     "text": [
      "Epoch 1/50\n"
     ]
    },
    {
     "ename": "ValueError",
     "evalue": "Cannot feed value of shape (1, 5, 2) for Tensor 'out_prediction_target:0', which has shape '(?, ?)'",
     "output_type": "error",
     "traceback": [
      "\u001b[0;31m---------------------------------------------------------------------------\u001b[0m",
      "\u001b[0;31mValueError\u001b[0m                                Traceback (most recent call last)",
      "\u001b[0;32m<ipython-input-27-f86de820bb98>\u001b[0m in \u001b[0;36m<module>\u001b[0;34m()\u001b[0m\n\u001b[0;32m----> 1\u001b[0;31m \u001b[0mmodel\u001b[0m\u001b[0;34m.\u001b[0m\u001b[0mfit_generator\u001b[0m\u001b[0;34m(\u001b[0m\u001b[0msequence\u001b[0m\u001b[0;34m,\u001b[0m \u001b[0mepochs\u001b[0m\u001b[0;34m=\u001b[0m\u001b[0mepochs\u001b[0m\u001b[0;34m,\u001b[0m \u001b[0mverbose\u001b[0m\u001b[0;34m=\u001b[0m\u001b[0;36m1\u001b[0m\u001b[0;34m)\u001b[0m\u001b[0;34m\u001b[0m\u001b[0m\n\u001b[0m",
      "\u001b[0;32m~/miniconda3/envs/reinforcement_learning/lib/python3.6/site-packages/keras/legacy/interfaces.py\u001b[0m in \u001b[0;36mwrapper\u001b[0;34m(*args, **kwargs)\u001b[0m\n\u001b[1;32m     89\u001b[0m                 warnings.warn('Update your `' + object_name +\n\u001b[1;32m     90\u001b[0m                               '` call to the Keras 2 API: ' + signature, stacklevel=2)\n\u001b[0;32m---> 91\u001b[0;31m             \u001b[0;32mreturn\u001b[0m \u001b[0mfunc\u001b[0m\u001b[0;34m(\u001b[0m\u001b[0;34m*\u001b[0m\u001b[0margs\u001b[0m\u001b[0;34m,\u001b[0m \u001b[0;34m**\u001b[0m\u001b[0mkwargs\u001b[0m\u001b[0;34m)\u001b[0m\u001b[0;34m\u001b[0m\u001b[0m\n\u001b[0m\u001b[1;32m     92\u001b[0m         \u001b[0mwrapper\u001b[0m\u001b[0;34m.\u001b[0m\u001b[0m_original_function\u001b[0m \u001b[0;34m=\u001b[0m \u001b[0mfunc\u001b[0m\u001b[0;34m\u001b[0m\u001b[0m\n\u001b[1;32m     93\u001b[0m         \u001b[0;32mreturn\u001b[0m \u001b[0mwrapper\u001b[0m\u001b[0;34m\u001b[0m\u001b[0m\n",
      "\u001b[0;32m~/miniconda3/envs/reinforcement_learning/lib/python3.6/site-packages/keras/engine/training.py\u001b[0m in \u001b[0;36mfit_generator\u001b[0;34m(self, generator, steps_per_epoch, epochs, verbose, callbacks, validation_data, validation_steps, class_weight, max_queue_size, workers, use_multiprocessing, shuffle, initial_epoch)\u001b[0m\n\u001b[1;32m   1413\u001b[0m             \u001b[0muse_multiprocessing\u001b[0m\u001b[0;34m=\u001b[0m\u001b[0muse_multiprocessing\u001b[0m\u001b[0;34m,\u001b[0m\u001b[0;34m\u001b[0m\u001b[0m\n\u001b[1;32m   1414\u001b[0m             \u001b[0mshuffle\u001b[0m\u001b[0;34m=\u001b[0m\u001b[0mshuffle\u001b[0m\u001b[0;34m,\u001b[0m\u001b[0;34m\u001b[0m\u001b[0m\n\u001b[0;32m-> 1415\u001b[0;31m             initial_epoch=initial_epoch)\n\u001b[0m\u001b[1;32m   1416\u001b[0m \u001b[0;34m\u001b[0m\u001b[0m\n\u001b[1;32m   1417\u001b[0m     \u001b[0;34m@\u001b[0m\u001b[0minterfaces\u001b[0m\u001b[0;34m.\u001b[0m\u001b[0mlegacy_generator_methods_support\u001b[0m\u001b[0;34m\u001b[0m\u001b[0m\n",
      "\u001b[0;32m~/miniconda3/envs/reinforcement_learning/lib/python3.6/site-packages/keras/engine/training_generator.py\u001b[0m in \u001b[0;36mfit_generator\u001b[0;34m(model, generator, steps_per_epoch, epochs, verbose, callbacks, validation_data, validation_steps, class_weight, max_queue_size, workers, use_multiprocessing, shuffle, initial_epoch)\u001b[0m\n\u001b[1;32m    211\u001b[0m                 outs = model.train_on_batch(x, y,\n\u001b[1;32m    212\u001b[0m                                             \u001b[0msample_weight\u001b[0m\u001b[0;34m=\u001b[0m\u001b[0msample_weight\u001b[0m\u001b[0;34m,\u001b[0m\u001b[0;34m\u001b[0m\u001b[0m\n\u001b[0;32m--> 213\u001b[0;31m                                             class_weight=class_weight)\n\u001b[0m\u001b[1;32m    214\u001b[0m \u001b[0;34m\u001b[0m\u001b[0m\n\u001b[1;32m    215\u001b[0m                 \u001b[0mouts\u001b[0m \u001b[0;34m=\u001b[0m \u001b[0mto_list\u001b[0m\u001b[0;34m(\u001b[0m\u001b[0mouts\u001b[0m\u001b[0;34m)\u001b[0m\u001b[0;34m\u001b[0m\u001b[0m\n",
      "\u001b[0;32m~/miniconda3/envs/reinforcement_learning/lib/python3.6/site-packages/keras/engine/training.py\u001b[0m in \u001b[0;36mtrain_on_batch\u001b[0;34m(self, x, y, sample_weight, class_weight)\u001b[0m\n\u001b[1;32m   1213\u001b[0m             \u001b[0mins\u001b[0m \u001b[0;34m=\u001b[0m \u001b[0mx\u001b[0m \u001b[0;34m+\u001b[0m \u001b[0my\u001b[0m \u001b[0;34m+\u001b[0m \u001b[0msample_weights\u001b[0m\u001b[0;34m\u001b[0m\u001b[0m\n\u001b[1;32m   1214\u001b[0m         \u001b[0mself\u001b[0m\u001b[0;34m.\u001b[0m\u001b[0m_make_train_function\u001b[0m\u001b[0;34m(\u001b[0m\u001b[0;34m)\u001b[0m\u001b[0;34m\u001b[0m\u001b[0m\n\u001b[0;32m-> 1215\u001b[0;31m         \u001b[0moutputs\u001b[0m \u001b[0;34m=\u001b[0m \u001b[0mself\u001b[0m\u001b[0;34m.\u001b[0m\u001b[0mtrain_function\u001b[0m\u001b[0;34m(\u001b[0m\u001b[0mins\u001b[0m\u001b[0;34m)\u001b[0m\u001b[0;34m\u001b[0m\u001b[0m\n\u001b[0m\u001b[1;32m   1216\u001b[0m         \u001b[0;32mreturn\u001b[0m \u001b[0munpack_singleton\u001b[0m\u001b[0;34m(\u001b[0m\u001b[0moutputs\u001b[0m\u001b[0;34m)\u001b[0m\u001b[0;34m\u001b[0m\u001b[0m\n\u001b[1;32m   1217\u001b[0m \u001b[0;34m\u001b[0m\u001b[0m\n",
      "\u001b[0;32m~/miniconda3/envs/reinforcement_learning/lib/python3.6/site-packages/keras/backend/tensorflow_backend.py\u001b[0m in \u001b[0;36m__call__\u001b[0;34m(self, inputs)\u001b[0m\n\u001b[1;32m   2670\u001b[0m                     \u001b[0;34m'In order to feed symbolic tensors to a Keras model '\u001b[0m\u001b[0;34m\u001b[0m\u001b[0m\n\u001b[1;32m   2671\u001b[0m                     'in TensorFlow, you need tensorflow 1.8 or higher.')\n\u001b[0;32m-> 2672\u001b[0;31m             \u001b[0;32mreturn\u001b[0m \u001b[0mself\u001b[0m\u001b[0;34m.\u001b[0m\u001b[0m_legacy_call\u001b[0m\u001b[0;34m(\u001b[0m\u001b[0minputs\u001b[0m\u001b[0;34m)\u001b[0m\u001b[0;34m\u001b[0m\u001b[0m\n\u001b[0m\u001b[1;32m   2673\u001b[0m \u001b[0;34m\u001b[0m\u001b[0m\n\u001b[1;32m   2674\u001b[0m \u001b[0;34m\u001b[0m\u001b[0m\n",
      "\u001b[0;32m~/miniconda3/envs/reinforcement_learning/lib/python3.6/site-packages/keras/backend/tensorflow_backend.py\u001b[0m in \u001b[0;36m_legacy_call\u001b[0;34m(self, inputs)\u001b[0m\n\u001b[1;32m   2652\u001b[0m         \u001b[0msession\u001b[0m \u001b[0;34m=\u001b[0m \u001b[0mget_session\u001b[0m\u001b[0;34m(\u001b[0m\u001b[0;34m)\u001b[0m\u001b[0;34m\u001b[0m\u001b[0m\n\u001b[1;32m   2653\u001b[0m         updated = session.run(fetches=fetches, feed_dict=feed_dict,\n\u001b[0;32m-> 2654\u001b[0;31m                               **self.session_kwargs)\n\u001b[0m\u001b[1;32m   2655\u001b[0m         \u001b[0;32mreturn\u001b[0m \u001b[0mupdated\u001b[0m\u001b[0;34m[\u001b[0m\u001b[0;34m:\u001b[0m\u001b[0mlen\u001b[0m\u001b[0;34m(\u001b[0m\u001b[0mself\u001b[0m\u001b[0;34m.\u001b[0m\u001b[0moutputs\u001b[0m\u001b[0;34m)\u001b[0m\u001b[0;34m]\u001b[0m\u001b[0;34m\u001b[0m\u001b[0m\n\u001b[1;32m   2656\u001b[0m \u001b[0;34m\u001b[0m\u001b[0m\n",
      "\u001b[0;32m~/miniconda3/envs/reinforcement_learning/lib/python3.6/site-packages/tensorflow/python/client/session.py\u001b[0m in \u001b[0;36mrun\u001b[0;34m(self, fetches, feed_dict, options, run_metadata)\u001b[0m\n\u001b[1;32m    893\u001b[0m     \u001b[0;32mtry\u001b[0m\u001b[0;34m:\u001b[0m\u001b[0;34m\u001b[0m\u001b[0m\n\u001b[1;32m    894\u001b[0m       result = self._run(None, fetches, feed_dict, options_ptr,\n\u001b[0;32m--> 895\u001b[0;31m                          run_metadata_ptr)\n\u001b[0m\u001b[1;32m    896\u001b[0m       \u001b[0;32mif\u001b[0m \u001b[0mrun_metadata\u001b[0m\u001b[0;34m:\u001b[0m\u001b[0;34m\u001b[0m\u001b[0m\n\u001b[1;32m    897\u001b[0m         \u001b[0mproto_data\u001b[0m \u001b[0;34m=\u001b[0m \u001b[0mtf_session\u001b[0m\u001b[0;34m.\u001b[0m\u001b[0mTF_GetBuffer\u001b[0m\u001b[0;34m(\u001b[0m\u001b[0mrun_metadata_ptr\u001b[0m\u001b[0;34m)\u001b[0m\u001b[0;34m\u001b[0m\u001b[0m\n",
      "\u001b[0;32m~/miniconda3/envs/reinforcement_learning/lib/python3.6/site-packages/tensorflow/python/client/session.py\u001b[0m in \u001b[0;36m_run\u001b[0;34m(self, handle, fetches, feed_dict, options, run_metadata)\u001b[0m\n\u001b[1;32m   1102\u001b[0m                 \u001b[0;34m'Cannot feed value of shape %r for Tensor %r, '\u001b[0m\u001b[0;34m\u001b[0m\u001b[0m\n\u001b[1;32m   1103\u001b[0m                 \u001b[0;34m'which has shape %r'\u001b[0m\u001b[0;34m\u001b[0m\u001b[0m\n\u001b[0;32m-> 1104\u001b[0;31m                 % (np_val.shape, subfeed_t.name, str(subfeed_t.get_shape())))\n\u001b[0m\u001b[1;32m   1105\u001b[0m           \u001b[0;32mif\u001b[0m \u001b[0;32mnot\u001b[0m \u001b[0mself\u001b[0m\u001b[0;34m.\u001b[0m\u001b[0mgraph\u001b[0m\u001b[0;34m.\u001b[0m\u001b[0mis_feedable\u001b[0m\u001b[0;34m(\u001b[0m\u001b[0msubfeed_t\u001b[0m\u001b[0;34m)\u001b[0m\u001b[0;34m:\u001b[0m\u001b[0;34m\u001b[0m\u001b[0m\n\u001b[1;32m   1106\u001b[0m             \u001b[0;32mraise\u001b[0m \u001b[0mValueError\u001b[0m\u001b[0;34m(\u001b[0m\u001b[0;34m'Tensor %s may not be fed.'\u001b[0m \u001b[0;34m%\u001b[0m \u001b[0msubfeed_t\u001b[0m\u001b[0;34m)\u001b[0m\u001b[0;34m\u001b[0m\u001b[0m\n",
      "\u001b[0;31mValueError\u001b[0m: Cannot feed value of shape (1, 5, 2) for Tensor 'out_prediction_target:0', which has shape '(?, ?)'"
     ]
    }
   ],
   "source": [
    "model.fit_generator(sequence, epochs=epochs, verbose=1)"
   ]
  },
  {
   "cell_type": "code",
   "execution_count": null,
   "metadata": {},
   "outputs": [],
   "source": [
    "#model.save_weights('2steps_dense_43epochs.h5')"
   ]
  },
  {
   "cell_type": "code",
   "execution_count": null,
   "metadata": {},
   "outputs": [],
   "source": [
    "model.predict(np.array([get_state(wd)]))[1][0][0]"
   ]
  },
  {
   "cell_type": "code",
   "execution_count": null,
   "metadata": {},
   "outputs": [],
   "source": [
    "[get_state(wd)].shape"
   ]
  },
  {
   "cell_type": "code",
   "execution_count": null,
   "metadata": {},
   "outputs": [],
   "source": [
    "test = np.random.rand(3, 5, 2)"
   ]
  },
  {
   "cell_type": "code",
   "execution_count": null,
   "metadata": {},
   "outputs": [],
   "source": [
    "test"
   ]
  },
  {
   "cell_type": "code",
   "execution_count": null,
   "metadata": {},
   "outputs": [],
   "source": [
    "test[:, 3, :]"
   ]
  },
  {
   "cell_type": "code",
   "execution_count": null,
   "metadata": {},
   "outputs": [],
   "source": [
    "test.reshape([3, 1, 5])[:, :, 0]"
   ]
  },
  {
   "cell_type": "code",
   "execution_count": null,
   "metadata": {},
   "outputs": [],
   "source": [
    "in_state = []\n",
    "state = get_state(wd)"
   ]
  },
  {
   "cell_type": "code",
   "execution_count": null,
   "metadata": {},
   "outputs": [],
   "source": [
    "state"
   ]
  },
  {
   "cell_type": "code",
   "execution_count": null,
   "metadata": {},
   "outputs": [],
   "source": [
    "in_state.append(state)"
   ]
  },
  {
   "cell_type": "code",
   "execution_count": null,
   "metadata": {},
   "outputs": [],
   "source": [
    "in_state"
   ]
  },
  {
   "cell_type": "code",
   "execution_count": null,
   "metadata": {},
   "outputs": [],
   "source": [
    "np.array(in_state)"
   ]
  },
  {
   "cell_type": "code",
   "execution_count": null,
   "metadata": {},
   "outputs": [],
   "source": [
    "state1 = get_state(wd)"
   ]
  },
  {
   "cell_type": "code",
   "execution_count": null,
   "metadata": {},
   "outputs": [],
   "source": [
    "state2 = get_state(wd)"
   ]
  },
  {
   "cell_type": "code",
   "execution_count": null,
   "metadata": {},
   "outputs": [],
   "source": [
    "np.append(state1, state2).reshape([1, 8])"
   ]
  },
  {
   "cell_type": "code",
   "execution_count": null,
   "metadata": {},
   "outputs": [],
   "source": [
    "state1.shape"
   ]
  },
  {
   "cell_type": "code",
   "execution_count": null,
   "metadata": {},
   "outputs": [],
   "source": [
    "model.predict(get_state(wd).reshape([1, 1, 4]))[0]"
   ]
  },
  {
   "cell_type": "code",
   "execution_count": null,
   "metadata": {},
   "outputs": [],
   "source": [
    "s = get_state(wd)"
   ]
  },
  {
   "cell_type": "code",
   "execution_count": null,
   "metadata": {},
   "outputs": [],
   "source": [
    "state_h = get_state(wd)"
   ]
  },
  {
   "cell_type": "code",
   "execution_count": null,
   "metadata": {},
   "outputs": [],
   "source": [
    "state_h = np.append(state_h, s, axis=0)"
   ]
  },
  {
   "cell_type": "code",
   "execution_count": null,
   "metadata": {},
   "outputs": [],
   "source": [
    "model.predict(state_h.reshape([1, state_h.shape[0], state_h.shape[1]]))[0][0].shape"
   ]
  },
  {
   "cell_type": "code",
   "execution_count": null,
   "metadata": {},
   "outputs": [],
   "source": [
    "state_h"
   ]
  },
  {
   "cell_type": "code",
   "execution_count": 31,
   "metadata": {},
   "outputs": [],
   "source": [
    "form = np.full([sequence_len, state_len], empty)"
   ]
  },
  {
   "cell_type": "code",
   "execution_count": 32,
   "metadata": {},
   "outputs": [
    {
     "data": {
      "text/plain": [
       "array([[-1, -1, -1, -1],\n",
       "       [-1, -1, -1, -1],\n",
       "       [-1, -1, -1, -1],\n",
       "       [-1, -1, -1, -1],\n",
       "       [-1, -1, -1, -1],\n",
       "       [-1, -1, -1, -1]])"
      ]
     },
     "execution_count": 32,
     "metadata": {},
     "output_type": "execute_result"
    }
   ],
   "source": [
    "form"
   ]
  },
  {
   "cell_type": "code",
   "execution_count": 33,
   "metadata": {},
   "outputs": [],
   "source": [
    "form = np.append(form[1:], get_state(wd), axis=0)"
   ]
  },
  {
   "cell_type": "code",
   "execution_count": 34,
   "metadata": {},
   "outputs": [
    {
     "data": {
      "text/plain": [
       "array([[-1.        , -1.        , -1.        , -1.        ],\n",
       "       [-1.        , -1.        , -1.        , -1.        ],\n",
       "       [-1.        , -1.        , -1.        , -1.        ],\n",
       "       [-1.        , -1.        , -1.        , -1.        ],\n",
       "       [-1.        , -1.        , -1.        , -1.        ],\n",
       "       [ 0.38636364,  0.03686636,  0.51329008,  1.00304034]])"
      ]
     },
     "execution_count": 34,
     "metadata": {},
     "output_type": "execute_result"
    }
   ],
   "source": [
    "form"
   ]
  },
  {
   "cell_type": "code",
   "execution_count": 35,
   "metadata": {},
   "outputs": [],
   "source": [
    "form = np.append(form[1:], get_state(wd),  axis=0)"
   ]
  },
  {
   "cell_type": "code",
   "execution_count": null,
   "metadata": {},
   "outputs": [],
   "source": [
    "model.predict(form.reshape([1, form.shape[0], form.shape[1]]))"
   ]
  },
  {
   "cell_type": "code",
   "execution_count": 38,
   "metadata": {},
   "outputs": [
    {
     "data": {
      "text/plain": [
       "array([0.51329008, 1.00304034])"
      ]
     },
     "execution_count": 38,
     "metadata": {},
     "output_type": "execute_result"
    }
   ],
   "source": [
    "get_state(wd)[0][2:]"
   ]
  },
  {
   "cell_type": "code",
   "execution_count": 36,
   "metadata": {},
   "outputs": [
    {
     "data": {
      "text/plain": [
       "array([[-1.        , -1.        , -1.        , -1.        ],\n",
       "       [-1.        , -1.        , -1.        , -1.        ],\n",
       "       [-1.        , -1.        , -1.        , -1.        ],\n",
       "       [-1.        , -1.        , -1.        , -1.        ],\n",
       "       [ 0.38636364,  0.03686636,  0.51329008,  1.00304034],\n",
       "       [ 0.38636364,  0.03686636,  0.51329008,  1.00304034]])"
      ]
     },
     "execution_count": 36,
     "metadata": {},
     "output_type": "execute_result"
    }
   ],
   "source": [
    "form"
   ]
  },
  {
   "cell_type": "code",
   "execution_count": 37,
   "metadata": {},
   "outputs": [
    {
     "data": {
      "text/plain": [
       "array([0.51329008, 1.00304034])"
      ]
     },
     "execution_count": 37,
     "metadata": {},
     "output_type": "execute_result"
    }
   ],
   "source": [
    "form[-1, 2:]"
   ]
  },
  {
   "cell_type": "code",
   "execution_count": null,
   "metadata": {},
   "outputs": [],
   "source": []
  }
 ],
 "metadata": {
  "kernelspec": {
   "display_name": "Python 3",
   "language": "python",
   "name": "python3"
  },
  "language_info": {
   "codemirror_mode": {
    "name": "ipython",
    "version": 3
   },
   "file_extension": ".py",
   "mimetype": "text/x-python",
   "name": "python",
   "nbconvert_exporter": "python",
   "pygments_lexer": "ipython3",
   "version": "3.6.6"
  }
 },
 "nbformat": 4,
 "nbformat_minor": 2
}
