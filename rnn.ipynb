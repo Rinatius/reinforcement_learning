{
 "cells": [
  {
   "cell_type": "code",
   "execution_count": 1,
   "metadata": {},
   "outputs": [],
   "source": [
    "import sys\n",
    "sys.path.insert(0,'/usr/lib/chromium-browser/chromedriver')\n",
    "from selenium import webdriver"
   ]
  },
  {
   "cell_type": "markdown",
   "metadata": {},
   "source": [
    "wd.get(\"https://rinatius.github.io/4magnets/\")\n",
    "element.send_keys(str(int(value)))\n",
    "element.click()\n",
    "wd.find_element_by_xpath(\"/html/body/input[2]\")\n",
    "element.get_attribute(\"value\")\n"
   ]
  },
  {
   "cell_type": "code",
   "execution_count": 2,
   "metadata": {},
   "outputs": [],
   "source": [
    "from IPython.display import Image\n",
    "from selenium.webdriver.common.keys import Keys\n",
    "import numpy as np\n",
    "import time"
   ]
  },
  {
   "cell_type": "code",
   "execution_count": 3,
   "metadata": {},
   "outputs": [
    {
     "name": "stderr",
     "output_type": "stream",
     "text": [
      "Using TensorFlow backend.\n"
     ]
    }
   ],
   "source": [
    "import keras\n",
    "from keras.layers import Dense, Flatten, Dropout, MaxPooling1D, Conv1D, Input, LSTM, SimpleRNN, Reshape\n",
    "from keras.models import Model\n",
    "from keras.layers.merge import concatenate\n",
    "from keras.utils import Sequence\n",
    "from keras import backend as K\n",
    "from IPython.display import SVG\n",
    "from keras.utils.vis_utils import model_to_dot\n",
    "from keras.preprocessing.sequence import pad_sequences"
   ]
  },
  {
   "cell_type": "code",
   "execution_count": 7,
   "metadata": {},
   "outputs": [],
   "source": [
    "#wd = webdriver.Chrome()\n",
    "chrome_options = webdriver.ChromeOptions()\n",
    "chrome_options.add_argument('--headless')\n",
    "wd = webdriver.Chrome('chromedriver', options=chrome_options)"
   ]
  },
  {
   "cell_type": "code",
   "execution_count": 8,
   "metadata": {},
   "outputs": [],
   "source": [
    "wd.get(\"https://rinatius.github.io/4magnets/\")"
   ]
  },
  {
   "cell_type": "code",
   "execution_count": 27,
   "metadata": {},
   "outputs": [
    {
     "data": {
      "image/png": "[encoded data removed]",
      "text/plain": [
       "<IPython.core.display.Image object>"
      ]
     },
     "execution_count": 27,
     "metadata": {},
     "output_type": "execute_result"
    }
   ],
   "source": [
    "Image(wd.get_screenshot_as_png())"
   ]
  },
  {
   "cell_type": "code",
   "execution_count": 11,
   "metadata": {},
   "outputs": [],
   "source": [
    "X_MIN = 120\n",
    "X_MAX = 340\n",
    "Y_MIN = 56\n",
    "Y_MAX = 273\n",
    "multiplier = 100\n",
    "\n",
    "def write_value(value, element):\n",
    "    select_all_symbols(element)\n",
    "    element.send_keys(str(int(value)))\n",
    "\n",
    "def select_all_symbols(element):\n",
    "    element.click()\n",
    "    element.send_keys(Keys.END)\n",
    "    element.send_keys(Keys.SHIFT + Keys.HOME)\n",
    "\n",
    "def get_state(wd):\n",
    "    values = []\n",
    "    values.append((float(wd.find_element_by_xpath(\"/html/body/input[2]\").get_attribute(\"value\")) - X_MIN)/(X_MAX - X_MIN))\n",
    "    values.append((float(wd.find_element_by_xpath(\"/html/body/input[3]\").get_attribute(\"value\")) - Y_MIN)/(Y_MAX - Y_MIN))\n",
    "    values.append((float(wd.find_element_by_xpath(\"/html/body/input[4]\").get_attribute(\"value\")) - X_MIN)/(X_MAX - X_MIN))\n",
    "    values.append((float(wd.find_element_by_xpath(\"/html/body/input[5]\").get_attribute(\"value\")) - Y_MIN)/(Y_MAX - Y_MIN))\n",
    "    return np.array(values).reshape(1, len(values))\n",
    "\n",
    "def act(wd, actions, multiplier=multiplier):\n",
    "    left = wd.find_element_by_xpath(\"/html/body/input[1]\")\n",
    "    right = wd.find_element_by_xpath(\"/html/body/input[6]\")\n",
    "    top = wd.find_element_by_xpath(\"/html/body/input[7]\")\n",
    "    bottom = wd.find_element_by_xpath(\"/html/body/input[8]\")\n",
    "    \n",
    "    write_value(actions[0]*multiplier, left)\n",
    "    write_value(actions[1]*multiplier, right)\n",
    "    write_value(actions[2]*multiplier, top)\n",
    "    write_value(actions[3]*multiplier, bottom)\n",
    "\n",
    "def randomize_element(wd, x_el, y_el):\n",
    "    x_element = wd.find_element_by_xpath(\"/html/body/input[\"+x_el+\"]\")\n",
    "    y_element = wd.find_element_by_xpath(\"/html/body/input[\"+y_el+\"]\")\n",
    "    x = int(np.random.rand() * (X_MAX - X_MIN) + X_MIN)\n",
    "    y = int(np.random.rand() * (Y_MAX - Y_MIN) + Y_MIN)\n",
    "    write_value(x, x_element)\n",
    "    write_value(y, y_element)\n",
    "\n",
    "def random_target(wd):\n",
    "    randomize_element(wd, '2', '3')\n",
    "    \n",
    "def random_position(wd):\n",
    "    randomize_element(wd, '13', '14')\n",
    "    \n",
    "def show_prediction(wd, xy):\n",
    "    x = wd.find_element_by_xpath(\"/html/body/input[9]\")\n",
    "    y = wd.find_element_by_xpath(\"/html/body/input[10]\")\n",
    "    \n",
    "    write_value(int(xy[0] * (X_MAX - X_MIN) + X_MIN), x)\n",
    "    write_value(int(xy[1] * (Y_MAX - Y_MIN) + Y_MIN), y)\n",
    "    \n",
    "def start_sim(wd):\n",
    "    wd.find_element_by_xpath(\"/html/body/input[12]\").click()\n",
    "    \n",
    "def reset_sim(wd):\n",
    "    wd.find_element_by_xpath(\"/html/body/input[15]\").click()\n",
    "    "
   ]
  },
  {
   "cell_type": "code",
   "execution_count": 12,
   "metadata": {},
   "outputs": [],
   "source": [
    "state_len = get_state(wd).shape[1]\n",
    "num_commands = 4\n",
    "sequence_len = 3\n",
    "batch_size = 10\n",
    "batches = 10\n",
    "epochs = 50\n",
    "dropout = 0.2\n",
    "empty = -1\n",
    "conv_input_shape = (sequence_len, num_commands)"
   ]
  },
  {
   "cell_type": "code",
   "execution_count": 13,
   "metadata": {},
   "outputs": [
    {
     "data": {
      "text/plain": [
       "'def prediction_loss(y_true, y_pred):\\n    prediction_accuracy = K.mean(K.sum(K.square(y_pred)))\\n    #square_distance_to_target = K.mean(K.sum(K.square(y_pred - y_true[:, 0])))\\n    combined_loss = prediction_accuracy\\n    return combined_loss'"
      ]
     },
     "execution_count": 13,
     "metadata": {},
     "output_type": "execute_result"
    }
   ],
   "source": [
    "def control_reproduction_loss(y_true, y_pred):\n",
    "    return K.mean(K.square(y_pred - y_true))\n",
    "\n",
    "'''def prediction_loss(y_true, y_pred):\n",
    "    prediction_accuracy = K.mean(K.sum(K.square(y_pred - y_true[:, 3])))\n",
    "    square_distance_to_target = K.mean(K.sum(K.square(y_pred - y_true[:, 0])))\n",
    "    combined_loss = K.exp(K.sqrt(prediction_accuracy))*K.sqrt(square_distance_to_target)\n",
    "    return combined_loss'''\n",
    "\n",
    "def prediction_loss(y_true, y_pred):\n",
    "    prediction_accuracy = K.mean(K.sum(K.square(y_pred - y_true[:, 3, :])))\n",
    "    #square_distance_to_target = K.mean(K.sum(K.square(y_pred - y_true[:, 0])))\n",
    "    combined_loss = prediction_accuracy\n",
    "    return combined_loss\n",
    "\n",
    "def prediction_accuracy(y_true, y_pred):\n",
    "    return K.mean(K.sum(K.square(y_pred - y_true[:, 3, :])))\n",
    "\n",
    "def distance_to_target(y_true, y_pred):\n",
    "    return K.mean(K.sum(K.square(y_true[:, 0] - y_true[:, 3, :])))\n",
    "\n",
    "def predicted_distance_to_target(y_true, y_pred):\n",
    "    return K.mean(K.sum(K.square(y_pred - y_true[:, 0, :])))\n",
    "\n",
    "def prediction_reproduction(y_true, y_pred):\n",
    "    return K.mean(K.sum(K.square(y_pred - y_true[:, 4, :])))\n",
    "\n",
    "'''def prediction_loss(y_true, y_pred):\n",
    "    prediction_accuracy = K.mean(K.sum(K.square(y_pred)))\n",
    "    #square_distance_to_target = K.mean(K.sum(K.square(y_pred - y_true[:, 0])))\n",
    "    combined_loss = prediction_accuracy\n",
    "    return combined_loss'''"
   ]
  },
  {
   "cell_type": "code",
   "execution_count": 38,
   "metadata": {},
   "outputs": [],
   "source": [
    "class WDSequence(Sequence):\n",
    "\n",
    "    def __init__(self,\n",
    "                 wd,\n",
    "                 model,\n",
    "                 batches,\n",
    "                 batch_size):\n",
    "        self.model = model\n",
    "        self.wd = wd\n",
    "        self.batches = batches\n",
    "        self.batch_size = batch_size\n",
    "\n",
    "    def __len__(self):\n",
    "        return self.batches\n",
    "\n",
    "    def __getitem__(self, idx):\n",
    "        \n",
    "        reset_sim(self.wd)\n",
    "        time.sleep(1)\n",
    "        random_target(self.wd)\n",
    "        random_position(self.wd)\n",
    "        start_sim(self.wd)\n",
    "        state = np.full([sequence_len, state_len], get_state(self.wd))\n",
    "        \n",
    "        in_state = []\n",
    "        out_control = []\n",
    "        out_prediction = []\n",
    "        \n",
    "        for i in range(batch_size):  \n",
    "\n",
    "            state = np.append(state[1:], get_state(self.wd), axis=0)\n",
    "\n",
    "\n",
    "            target = state[-1, :2]\n",
    "            position = state[-1, 2:]\n",
    "\n",
    "\n",
    "            y_pred = self.model.predict(state.reshape([1, state.shape[0], state.shape[1]]))\n",
    "            actions = y_pred[0][0]\n",
    "\n",
    "            act(wd, actions)\n",
    "            show_prediction(wd, y_pred[1][0][0])\n",
    "            time.sleep(0.3)\n",
    "\n",
    "            new_state = get_state(self.wd)\n",
    "            new_target = new_state[0][:2]\n",
    "            new_position = new_state[0][2:]\n",
    "\n",
    "            predicted_position = y_pred[1][0][0]\n",
    "\n",
    "            in_state.append(state)\n",
    "            out_control.append(y_pred[0][0][0])\n",
    "            out_prediction.append([target, position, new_target, new_position, predicted_position])\n",
    "            #out_prediction.append(new_position)\n",
    "        \n",
    "        return ({'in_state': np.array(in_state)}, \n",
    "                {'out_control': np.array(out_control), \n",
    "                 'out_prediction': np.array(out_prediction)} )"
   ]
  },
  {
   "cell_type": "code",
   "execution_count": 39,
   "metadata": {},
   "outputs": [],
   "source": [
    "#input_shape = [1, 8]"
   ]
  },
  {
   "cell_type": "code",
   "execution_count": 40,
   "metadata": {},
   "outputs": [],
   "source": [
    "#in_state = LSTM(4, input_shape=(None, 1, 4), return_sequences=True, name='in_state')\n",
    "in_state = Input(shape=(None, 4), name='in_state')\n",
    "first_lstm = LSTM(128, return_sequences=True, name='first_lstm')(in_state)\n",
    "l = LSTM(128)(first_lstm)\n",
    "l = Dense(128, activation='relu')(l)\n",
    "out_control = Dense(num_commands, activation='sigmoid', name='out_control')(l)\n",
    "last_lstm = LSTM(128, name='last_lstm')(first_lstm)\n",
    "l = concatenate([last_lstm, out_control])\n",
    "l = Dense(128, activation='relu')(l)\n",
    "l = Dense(2, activation='sigmoid')(l)\n",
    "out_prediction = Reshape((1, 2), name='out_prediction')(l)"
   ]
  },
  {
   "cell_type": "code",
   "execution_count": 41,
   "metadata": {
    "scrolled": true
   },
   "outputs": [
    {
     "name": "stdout",
     "output_type": "stream",
     "text": [
      "__________________________________________________________________________________________________\n",
      "Layer (type)                    Output Shape         Param #     Connected to                     \n",
      "==================================================================================================\n",
      "in_state (InputLayer)           (None, None, 4)      0                                            \n",
      "__________________________________________________________________________________________________\n",
      "first_lstm (LSTM)               (None, None, 128)    68096       in_state[0][0]                   \n",
      "__________________________________________________________________________________________________\n",
      "lstm_3 (LSTM)                   (None, 128)          131584      first_lstm[0][0]                 \n",
      "__________________________________________________________________________________________________\n",
      "dense_7 (Dense)                 (None, 128)          16512       lstm_3[0][0]                     \n",
      "__________________________________________________________________________________________________\n",
      "out_control (Dense)             (None, 4)            516         dense_7[0][0]                    \n",
      "__________________________________________________________________________________________________\n",
      "last_lstm (LSTM)                (None, 128)          131584      first_lstm[0][0]                 \n",
      "__________________________________________________________________________________________________\n",
      "concatenate_3 (Concatenate)     (None, 132)          0           last_lstm[0][0]                  \n",
      "                                                                 out_control[0][0]                \n",
      "__________________________________________________________________________________________________\n",
      "dense_8 (Dense)                 (None, 128)          17024       concatenate_3[0][0]              \n",
      "__________________________________________________________________________________________________\n",
      "dense_9 (Dense)                 (None, 2)            258         dense_8[0][0]                    \n",
      "__________________________________________________________________________________________________\n",
      "out_prediction (Reshape)        (None, 1, 2)         0           dense_9[0][0]                    \n",
      "==================================================================================================\n",
      "Total params: 365,574\n",
      "Trainable params: 365,574\n",
      "Non-trainable params: 0\n",
      "__________________________________________________________________________________________________\n"
     ]
    }
   ],
   "source": [
    "model = Model(inputs=[in_state],\n",
    "              outputs=[out_control, out_prediction])\n",
    "model.summary()\n"
   ]
  },
  {
   "cell_type": "code",
   "execution_count": 42,
   "metadata": {},
   "outputs": [
    {
     "data": {
      "image/svg+xml": [
       "<svg height=\"629pt\" viewBox=\"0.00 0.00 238.00 629.00\" width=\"238pt\" xmlns=\"http://www.w3.org/2000/svg\" xmlns:xlink=\"http://www.w3.org/1999/xlink\">\n",
       "<g class=\"graph\" id=\"graph0\" transform=\"scale(1 1) rotate(0) translate(4 625)\">\n",
       "<title>G</title>\n",
       "<polygon fill=\"#ffffff\" points=\"-4,4 -4,-625 234,-625 234,4 -4,4\" stroke=\"transparent\"/>\n",
       "<!-- 140529403056984 -->\n",
       "<g class=\"node\" id=\"node1\">\n",
       "<title>140529403056984</title>\n",
       "<polygon fill=\"none\" points=\"50,-584.5 50,-620.5 176,-620.5 176,-584.5 50,-584.5\" stroke=\"#000000\"/>\n",
       "<text fill=\"#000000\" font-family=\"Times,serif\" font-size=\"14.00\" text-anchor=\"middle\" x=\"113\" y=\"-598.8\">in_state: InputLayer</text>\n",
       "</g>\n",
       "<!-- 140529403057096 -->\n",
       "<g class=\"node\" id=\"node2\">\n",
       "<title>140529403057096</title>\n",
       "<polygon fill=\"none\" points=\"56.5,-511.5 56.5,-547.5 169.5,-547.5 169.5,-511.5 56.5,-511.5\" stroke=\"#000000\"/>\n",
       "<text fill=\"#000000\" font-family=\"Times,serif\" font-size=\"14.00\" text-anchor=\"middle\" x=\"113\" y=\"-525.8\">first_lstm: LSTM</text>\n",
       "</g>\n",
       "<!-- 140529403056984&#45;&gt;140529403057096 -->\n",
       "<g class=\"edge\" id=\"edge1\">\n",
       "<title>140529403056984-&gt;140529403057096</title>\n",
       "<path d=\"M113,-584.4551C113,-576.3828 113,-566.6764 113,-557.6817\" fill=\"none\" stroke=\"#000000\"/>\n",
       "<polygon fill=\"#000000\" points=\"116.5001,-557.5903 113,-547.5904 109.5001,-557.5904 116.5001,-557.5903\" stroke=\"#000000\"/>\n",
       "</g>\n",
       "<!-- 140529403057040 -->\n",
       "<g class=\"node\" id=\"node3\">\n",
       "<title>140529403057040</title>\n",
       "<polygon fill=\"none\" points=\"14,-438.5 14,-474.5 112,-474.5 112,-438.5 14,-438.5\" stroke=\"#000000\"/>\n",
       "<text fill=\"#000000\" font-family=\"Times,serif\" font-size=\"14.00\" text-anchor=\"middle\" x=\"63\" y=\"-452.8\">lstm_3: LSTM</text>\n",
       "</g>\n",
       "<!-- 140529403057096&#45;&gt;140529403057040 -->\n",
       "<g class=\"edge\" id=\"edge2\">\n",
       "<title>140529403057096-&gt;140529403057040</title>\n",
       "<path d=\"M100.6404,-511.4551C94.7509,-502.8564 87.5913,-492.4034 81.1039,-482.9316\" fill=\"none\" stroke=\"#000000\"/>\n",
       "<polygon fill=\"#000000\" points=\"83.9292,-480.8628 75.3907,-474.5904 78.154,-484.8185 83.9292,-480.8628\" stroke=\"#000000\"/>\n",
       "</g>\n",
       "<!-- 140529893187768 -->\n",
       "<g class=\"node\" id=\"node6\">\n",
       "<title>140529893187768</title>\n",
       "<polygon fill=\"none\" points=\"120,-365.5 120,-401.5 230,-401.5 230,-365.5 120,-365.5\" stroke=\"#000000\"/>\n",
       "<text fill=\"#000000\" font-family=\"Times,serif\" font-size=\"14.00\" text-anchor=\"middle\" x=\"175\" y=\"-379.8\">last_lstm: LSTM</text>\n",
       "</g>\n",
       "<!-- 140529403057096&#45;&gt;140529893187768 -->\n",
       "<g class=\"edge\" id=\"edge5\">\n",
       "<title>140529403057096-&gt;140529893187768</title>\n",
       "<path d=\"M120.727,-511.3042C131.4012,-486.1682 150.7508,-440.6029 163.2296,-411.2175\" fill=\"none\" stroke=\"#000000\"/>\n",
       "<polygon fill=\"#000000\" points=\"166.4884,-412.4976 167.1756,-401.9251 160.0453,-409.7615 166.4884,-412.4976\" stroke=\"#000000\"/>\n",
       "</g>\n",
       "<!-- 140529403058328 -->\n",
       "<g class=\"node\" id=\"node4\">\n",
       "<title>140529403058328</title>\n",
       "<polygon fill=\"none\" points=\"0,-365.5 0,-401.5 102,-401.5 102,-365.5 0,-365.5\" stroke=\"#000000\"/>\n",
       "<text fill=\"#000000\" font-family=\"Times,serif\" font-size=\"14.00\" text-anchor=\"middle\" x=\"51\" y=\"-379.8\">dense_7: Dense</text>\n",
       "</g>\n",
       "<!-- 140529403057040&#45;&gt;140529403058328 -->\n",
       "<g class=\"edge\" id=\"edge3\">\n",
       "<title>140529403057040-&gt;140529403058328</title>\n",
       "<path d=\"M60.0337,-438.4551C58.7068,-430.3828 57.1112,-420.6764 55.6326,-411.6817\" fill=\"none\" stroke=\"#000000\"/>\n",
       "<polygon fill=\"#000000\" points=\"59.0496,-410.8902 53.9738,-401.5904 52.1423,-412.0257 59.0496,-410.8902\" stroke=\"#000000\"/>\n",
       "</g>\n",
       "<!-- 140529894853320 -->\n",
       "<g class=\"node\" id=\"node5\">\n",
       "<title>140529894853320</title>\n",
       "<polygon fill=\"none\" points=\"9,-292.5 9,-328.5 129,-328.5 129,-292.5 9,-292.5\" stroke=\"#000000\"/>\n",
       "<text fill=\"#000000\" font-family=\"Times,serif\" font-size=\"14.00\" text-anchor=\"middle\" x=\"69\" y=\"-306.8\">out_control: Dense</text>\n",
       "</g>\n",
       "<!-- 140529403058328&#45;&gt;140529894853320 -->\n",
       "<g class=\"edge\" id=\"edge4\">\n",
       "<title>140529403058328-&gt;140529894853320</title>\n",
       "<path d=\"M55.4494,-365.4551C57.4615,-357.2951 59.8853,-347.4652 62.1233,-338.3887\" fill=\"none\" stroke=\"#000000\"/>\n",
       "<polygon fill=\"#000000\" points=\"65.5435,-339.1375 64.5394,-328.5904 58.747,-337.4616 65.5435,-339.1375\" stroke=\"#000000\"/>\n",
       "</g>\n",
       "<!-- 140529892240240 -->\n",
       "<g class=\"node\" id=\"node7\">\n",
       "<title>140529892240240</title>\n",
       "<polygon fill=\"none\" points=\"29,-219.5 29,-255.5 197,-255.5 197,-219.5 29,-219.5\" stroke=\"#000000\"/>\n",
       "<text fill=\"#000000\" font-family=\"Times,serif\" font-size=\"14.00\" text-anchor=\"middle\" x=\"113\" y=\"-233.8\">concatenate_3: Concatenate</text>\n",
       "</g>\n",
       "<!-- 140529894853320&#45;&gt;140529892240240 -->\n",
       "<g class=\"edge\" id=\"edge7\">\n",
       "<title>140529894853320-&gt;140529892240240</title>\n",
       "<path d=\"M79.8764,-292.4551C85.0063,-283.9441 91.2312,-273.6165 96.8936,-264.2219\" fill=\"none\" stroke=\"#000000\"/>\n",
       "<polygon fill=\"#000000\" points=\"99.9316,-265.9617 102.0962,-255.5904 93.9364,-262.3481 99.9316,-265.9617\" stroke=\"#000000\"/>\n",
       "</g>\n",
       "<!-- 140529893187768&#45;&gt;140529892240240 -->\n",
       "<g class=\"edge\" id=\"edge6\">\n",
       "<title>140529893187768-&gt;140529892240240</title>\n",
       "<path d=\"M167.8733,-365.1694C160.596,-346.6231 148.8572,-317.1746 138,-292 134.1661,-283.1104 129.8185,-273.4871 125.8363,-264.8364\" fill=\"none\" stroke=\"#000000\"/>\n",
       "<polygon fill=\"#000000\" points=\"128.9236,-263.1742 121.5425,-255.5736 122.5728,-266.1182 128.9236,-263.1742\" stroke=\"#000000\"/>\n",
       "</g>\n",
       "<!-- 140529891832216 -->\n",
       "<g class=\"node\" id=\"node8\">\n",
       "<title>140529891832216</title>\n",
       "<polygon fill=\"none\" points=\"62,-146.5 62,-182.5 164,-182.5 164,-146.5 62,-146.5\" stroke=\"#000000\"/>\n",
       "<text fill=\"#000000\" font-family=\"Times,serif\" font-size=\"14.00\" text-anchor=\"middle\" x=\"113\" y=\"-160.8\">dense_8: Dense</text>\n",
       "</g>\n",
       "<!-- 140529892240240&#45;&gt;140529891832216 -->\n",
       "<g class=\"edge\" id=\"edge8\">\n",
       "<title>140529892240240-&gt;140529891832216</title>\n",
       "<path d=\"M113,-219.4551C113,-211.3828 113,-201.6764 113,-192.6817\" fill=\"none\" stroke=\"#000000\"/>\n",
       "<polygon fill=\"#000000\" points=\"116.5001,-192.5903 113,-182.5904 109.5001,-192.5904 116.5001,-192.5903\" stroke=\"#000000\"/>\n",
       "</g>\n",
       "<!-- 140529891834736 -->\n",
       "<g class=\"node\" id=\"node9\">\n",
       "<title>140529891834736</title>\n",
       "<polygon fill=\"none\" points=\"62,-73.5 62,-109.5 164,-109.5 164,-73.5 62,-73.5\" stroke=\"#000000\"/>\n",
       "<text fill=\"#000000\" font-family=\"Times,serif\" font-size=\"14.00\" text-anchor=\"middle\" x=\"113\" y=\"-87.8\">dense_9: Dense</text>\n",
       "</g>\n",
       "<!-- 140529891832216&#45;&gt;140529891834736 -->\n",
       "<g class=\"edge\" id=\"edge9\">\n",
       "<title>140529891832216-&gt;140529891834736</title>\n",
       "<path d=\"M113,-146.4551C113,-138.3828 113,-128.6764 113,-119.6817\" fill=\"none\" stroke=\"#000000\"/>\n",
       "<polygon fill=\"#000000\" points=\"116.5001,-119.5903 113,-109.5904 109.5001,-119.5904 116.5001,-119.5903\" stroke=\"#000000\"/>\n",
       "</g>\n",
       "<!-- 140529889574864 -->\n",
       "<g class=\"node\" id=\"node10\">\n",
       "<title>140529889574864</title>\n",
       "<polygon fill=\"none\" points=\"38.5,-.5 38.5,-36.5 187.5,-36.5 187.5,-.5 38.5,-.5\" stroke=\"#000000\"/>\n",
       "<text fill=\"#000000\" font-family=\"Times,serif\" font-size=\"14.00\" text-anchor=\"middle\" x=\"113\" y=\"-14.8\">out_prediction: Reshape</text>\n",
       "</g>\n",
       "<!-- 140529891834736&#45;&gt;140529889574864 -->\n",
       "<g class=\"edge\" id=\"edge10\">\n",
       "<title>140529891834736-&gt;140529889574864</title>\n",
       "<path d=\"M113,-73.4551C113,-65.3828 113,-55.6764 113,-46.6817\" fill=\"none\" stroke=\"#000000\"/>\n",
       "<polygon fill=\"#000000\" points=\"116.5001,-46.5903 113,-36.5904 109.5001,-46.5904 116.5001,-46.5903\" stroke=\"#000000\"/>\n",
       "</g>\n",
       "</g>\n",
       "</svg>"
      ],
      "text/plain": [
       "<IPython.core.display.SVG object>"
      ]
     },
     "execution_count": 42,
     "metadata": {},
     "output_type": "execute_result"
    }
   ],
   "source": [
    "SVG(model_to_dot(model).create(prog='dot', format='svg'))"
   ]
  },
  {
   "cell_type": "code",
   "execution_count": 43,
   "metadata": {},
   "outputs": [],
   "source": [
    "model.compile(loss={'out_control': control_reproduction_loss,\n",
    "                    'out_prediction': prediction_loss},\n",
    "              loss_weights={'out_control': 0,\n",
    "                            'out_prediction': 1},\n",
    "              optimizer=keras.optimizers.Adam(),\n",
    "              metrics={'out_prediction': [prediction_accuracy,\n",
    "                                          distance_to_target, \n",
    "                                          predicted_distance_to_target,\n",
    "                                          prediction_reproduction]})"
   ]
  },
  {
   "cell_type": "code",
   "execution_count": 44,
   "metadata": {},
   "outputs": [],
   "source": [
    "model.load_weights('rnn_68epochs.h5')"
   ]
  },
  {
   "cell_type": "code",
   "execution_count": 45,
   "metadata": {},
   "outputs": [],
   "source": [
    "sequence = WDSequence(wd, model, batches=batches, batch_size=batch_size)"
   ]
  },
  {
   "cell_type": "code",
   "execution_count": 46,
   "metadata": {
    "scrolled": true
   },
   "outputs": [
    {
     "data": {
      "text/plain": [
       "array([0.12861812, 0.08848354], dtype=float32)"
      ]
     },
     "execution_count": 46,
     "metadata": {},
     "output_type": "execute_result"
    }
   ],
   "source": [
    "state = np.full([sequence_len, num_commands], empty)\n",
    "state = np.append(state[1:], get_state(wd), axis=0)\n",
    "model.predict(state.reshape(1, state.shape[0], state.shape[1]))[1][0][0]"
   ]
  },
  {
   "cell_type": "code",
   "execution_count": 47,
   "metadata": {
    "scrolled": false
   },
   "outputs": [
    {
     "name": "stdout",
     "output_type": "stream",
     "text": [
      "Epoch 1/50\n",
      "10/10 [==============================] - 187s 19s/step - loss: 2.5927 - out_control_loss: 0.0160 - out_prediction_loss: 2.5927 - out_prediction_prediction_accuracy: 2.5927 - out_prediction_distance_to_target: 4.8562 - out_prediction_predicted_distance_to_target: 45.5337 - out_prediction_prediction_reproduction: 1.4094\n",
      "Epoch 2/50\n",
      "10/10 [==============================] - 194s 19s/step - loss: 3.3373 - out_control_loss: 0.0161 - out_prediction_loss: 3.3373 - out_prediction_prediction_accuracy: 3.3373 - out_prediction_distance_to_target: 3.3012 - out_prediction_predicted_distance_to_target: 29.5703 - out_prediction_prediction_reproduction: 2.3707\n",
      "Epoch 3/50\n",
      "10/10 [==============================] - 198s 20s/step - loss: 2.9313 - out_control_loss: 0.0191 - out_prediction_loss: 2.9313 - out_prediction_prediction_accuracy: 2.9313 - out_prediction_distance_to_target: 3.6470 - out_prediction_predicted_distance_to_target: 31.7648 - out_prediction_prediction_reproduction: 2.1191\n",
      "Epoch 4/50\n",
      "10/10 [==============================] - 212s 21s/step - loss: 2.3459 - out_control_loss: 0.0241 - out_prediction_loss: 2.3459 - out_prediction_prediction_accuracy: 2.3459 - out_prediction_distance_to_target: 3.9977 - out_prediction_predicted_distance_to_target: 38.9241 - out_prediction_prediction_reproduction: 1.5442\n",
      "Epoch 5/50\n",
      "10/10 [==============================] - 198s 20s/step - loss: 2.8363 - out_control_loss: 0.0228 - out_prediction_loss: 2.8363 - out_prediction_prediction_accuracy: 2.8363 - out_prediction_distance_to_target: 3.9671 - out_prediction_predicted_distance_to_target: 33.9091 - out_prediction_prediction_reproduction: 1.8056\n",
      "Epoch 6/50\n",
      "10/10 [==============================] - 196s 20s/step - loss: 2.6287 - out_control_loss: 0.0346 - out_prediction_loss: 2.6287 - out_prediction_prediction_accuracy: 2.6287 - out_prediction_distance_to_target: 4.2101 - out_prediction_predicted_distance_to_target: 37.9581 - out_prediction_prediction_reproduction: 1.6876\n",
      "Epoch 7/50\n",
      "10/10 [==============================] - 189s 19s/step - loss: 5.2723 - out_control_loss: 0.0335 - out_prediction_loss: 5.2723 - out_prediction_prediction_accuracy: 5.2723 - out_prediction_distance_to_target: 3.7745 - out_prediction_predicted_distance_to_target: 35.5352 - out_prediction_prediction_reproduction: 3.8140\n",
      "Epoch 8/50\n",
      "10/10 [==============================] - 190s 19s/step - loss: 2.4713 - out_control_loss: 0.0268 - out_prediction_loss: 2.4713 - out_prediction_prediction_accuracy: 2.4713 - out_prediction_distance_to_target: 4.3982 - out_prediction_predicted_distance_to_target: 39.9072 - out_prediction_prediction_reproduction: 1.9038\n",
      "Epoch 9/50\n",
      "10/10 [==============================] - 188s 19s/step - loss: 4.8942 - out_control_loss: 0.0287 - out_prediction_loss: 4.8942 - out_prediction_prediction_accuracy: 4.8942 - out_prediction_distance_to_target: 3.2751 - out_prediction_predicted_distance_to_target: 30.5438 - out_prediction_prediction_reproduction: 3.4163\n",
      "Epoch 10/50\n",
      "10/10 [==============================] - 191s 19s/step - loss: 1.3457 - out_control_loss: 0.0302 - out_prediction_loss: 1.3457 - out_prediction_prediction_accuracy: 1.3457 - out_prediction_distance_to_target: 5.2990 - out_prediction_predicted_distance_to_target: 46.3932 - out_prediction_prediction_reproduction: 0.6709\n",
      "Epoch 11/50\n",
      "10/10 [==============================] - 190s 19s/step - loss: 3.0523 - out_control_loss: 0.0241 - out_prediction_loss: 3.0523 - out_prediction_prediction_accuracy: 3.0523 - out_prediction_distance_to_target: 4.8530 - out_prediction_predicted_distance_to_target: 40.8084 - out_prediction_prediction_reproduction: 1.8973\n",
      "Epoch 12/50\n",
      "10/10 [==============================] - 189s 19s/step - loss: 2.9848 - out_control_loss: 0.0368 - out_prediction_loss: 2.9848 - out_prediction_prediction_accuracy: 2.9848 - out_prediction_distance_to_target: 5.8932 - out_prediction_predicted_distance_to_target: 53.2880 - out_prediction_prediction_reproduction: 2.0891\n",
      "Epoch 13/50\n",
      "10/10 [==============================] - 190s 19s/step - loss: 3.4132 - out_control_loss: 0.0347 - out_prediction_loss: 3.4132 - out_prediction_prediction_accuracy: 3.4132 - out_prediction_distance_to_target: 3.4287 - out_prediction_predicted_distance_to_target: 31.6181 - out_prediction_prediction_reproduction: 1.8837\n",
      "Epoch 14/50\n",
      "10/10 [==============================] - 188s 19s/step - loss: 1.8662 - out_control_loss: 0.0484 - out_prediction_loss: 1.8662 - out_prediction_prediction_accuracy: 1.8662 - out_prediction_distance_to_target: 4.2722 - out_prediction_predicted_distance_to_target: 37.5711 - out_prediction_prediction_reproduction: 0.7838\n",
      "Epoch 15/50\n",
      "10/10 [==============================] - 188s 19s/step - loss: 1.6091 - out_control_loss: 0.0504 - out_prediction_loss: 1.6091 - out_prediction_prediction_accuracy: 1.6091 - out_prediction_distance_to_target: 5.1798 - out_prediction_predicted_distance_to_target: 50.1461 - out_prediction_prediction_reproduction: 0.6829\n",
      "Epoch 16/50\n",
      "10/10 [==============================] - 187s 19s/step - loss: 2.5319 - out_control_loss: 0.0478 - out_prediction_loss: 2.5319 - out_prediction_prediction_accuracy: 2.5319 - out_prediction_distance_to_target: 3.9552 - out_prediction_predicted_distance_to_target: 35.6728 - out_prediction_prediction_reproduction: 2.0495\n",
      "Epoch 17/50\n",
      "10/10 [==============================] - 191s 19s/step - loss: 1.4477 - out_control_loss: 0.0670 - out_prediction_loss: 1.4477 - out_prediction_prediction_accuracy: 1.4477 - out_prediction_distance_to_target: 3.3905 - out_prediction_predicted_distance_to_target: 32.2872 - out_prediction_prediction_reproduction: 0.7518\n",
      "Epoch 18/50\n",
      "10/10 [==============================] - 188s 19s/step - loss: 2.2969 - out_control_loss: 0.0500 - out_prediction_loss: 2.2969 - out_prediction_prediction_accuracy: 2.2969 - out_prediction_distance_to_target: 3.9758 - out_prediction_predicted_distance_to_target: 35.7859 - out_prediction_prediction_reproduction: 1.5217\n",
      "Epoch 19/50\n",
      " 2/10 [=====>........................] - ETA: 2:21 - loss: 0.5140 - out_control_loss: 0.1030 - out_prediction_loss: 0.5140 - out_prediction_prediction_accuracy: 0.5140 - out_prediction_distance_to_target: 5.2312 - out_prediction_predicted_distance_to_target: 50.0898 - out_prediction_prediction_reproduction: 0.2166"
     ]
    },
    {
     "ename": "KeyboardInterrupt",
     "evalue": "",
     "output_type": "error",
     "traceback": [
      "\u001b[0;31m---------------------------------------------------------------------------\u001b[0m",
      "\u001b[0;31mKeyboardInterrupt\u001b[0m                         Traceback (most recent call last)",
      "\u001b[0;32m<ipython-input-47-f86de820bb98>\u001b[0m in \u001b[0;36m<module>\u001b[0;34m()\u001b[0m\n\u001b[0;32m----> 1\u001b[0;31m \u001b[0mmodel\u001b[0m\u001b[0;34m.\u001b[0m\u001b[0mfit_generator\u001b[0m\u001b[0;34m(\u001b[0m\u001b[0msequence\u001b[0m\u001b[0;34m,\u001b[0m \u001b[0mepochs\u001b[0m\u001b[0;34m=\u001b[0m\u001b[0mepochs\u001b[0m\u001b[0;34m,\u001b[0m \u001b[0mverbose\u001b[0m\u001b[0;34m=\u001b[0m\u001b[0;36m1\u001b[0m\u001b[0;34m)\u001b[0m\u001b[0;34m\u001b[0m\u001b[0m\n\u001b[0m",
      "\u001b[0;32m~/miniconda3/envs/reinforcement_learning/lib/python3.6/site-packages/keras/legacy/interfaces.py\u001b[0m in \u001b[0;36mwrapper\u001b[0;34m(*args, **kwargs)\u001b[0m\n\u001b[1;32m     89\u001b[0m                 warnings.warn('Update your `' + object_name +\n\u001b[1;32m     90\u001b[0m                               '` call to the Keras 2 API: ' + signature, stacklevel=2)\n\u001b[0;32m---> 91\u001b[0;31m             \u001b[0;32mreturn\u001b[0m \u001b[0mfunc\u001b[0m\u001b[0;34m(\u001b[0m\u001b[0;34m*\u001b[0m\u001b[0margs\u001b[0m\u001b[0;34m,\u001b[0m \u001b[0;34m**\u001b[0m\u001b[0mkwargs\u001b[0m\u001b[0;34m)\u001b[0m\u001b[0;34m\u001b[0m\u001b[0m\n\u001b[0m\u001b[1;32m     92\u001b[0m         \u001b[0mwrapper\u001b[0m\u001b[0;34m.\u001b[0m\u001b[0m_original_function\u001b[0m \u001b[0;34m=\u001b[0m \u001b[0mfunc\u001b[0m\u001b[0;34m\u001b[0m\u001b[0m\n\u001b[1;32m     93\u001b[0m         \u001b[0;32mreturn\u001b[0m \u001b[0mwrapper\u001b[0m\u001b[0;34m\u001b[0m\u001b[0m\n",
      "\u001b[0;32m~/miniconda3/envs/reinforcement_learning/lib/python3.6/site-packages/keras/engine/training.py\u001b[0m in \u001b[0;36mfit_generator\u001b[0;34m(self, generator, steps_per_epoch, epochs, verbose, callbacks, validation_data, validation_steps, class_weight, max_queue_size, workers, use_multiprocessing, shuffle, initial_epoch)\u001b[0m\n\u001b[1;32m   1413\u001b[0m             \u001b[0muse_multiprocessing\u001b[0m\u001b[0;34m=\u001b[0m\u001b[0muse_multiprocessing\u001b[0m\u001b[0;34m,\u001b[0m\u001b[0;34m\u001b[0m\u001b[0m\n\u001b[1;32m   1414\u001b[0m             \u001b[0mshuffle\u001b[0m\u001b[0;34m=\u001b[0m\u001b[0mshuffle\u001b[0m\u001b[0;34m,\u001b[0m\u001b[0;34m\u001b[0m\u001b[0m\n\u001b[0;32m-> 1415\u001b[0;31m             initial_epoch=initial_epoch)\n\u001b[0m\u001b[1;32m   1416\u001b[0m \u001b[0;34m\u001b[0m\u001b[0m\n\u001b[1;32m   1417\u001b[0m     \u001b[0;34m@\u001b[0m\u001b[0minterfaces\u001b[0m\u001b[0;34m.\u001b[0m\u001b[0mlegacy_generator_methods_support\u001b[0m\u001b[0;34m\u001b[0m\u001b[0m\n",
      "\u001b[0;32m~/miniconda3/envs/reinforcement_learning/lib/python3.6/site-packages/keras/engine/training_generator.py\u001b[0m in \u001b[0;36mfit_generator\u001b[0;34m(model, generator, steps_per_epoch, epochs, verbose, callbacks, validation_data, validation_steps, class_weight, max_queue_size, workers, use_multiprocessing, shuffle, initial_epoch)\u001b[0m\n\u001b[1;32m    175\u001b[0m             \u001b[0mbatch_index\u001b[0m \u001b[0;34m=\u001b[0m \u001b[0;36m0\u001b[0m\u001b[0;34m\u001b[0m\u001b[0m\n\u001b[1;32m    176\u001b[0m             \u001b[0;32mwhile\u001b[0m \u001b[0msteps_done\u001b[0m \u001b[0;34m<\u001b[0m \u001b[0msteps_per_epoch\u001b[0m\u001b[0;34m:\u001b[0m\u001b[0;34m\u001b[0m\u001b[0m\n\u001b[0;32m--> 177\u001b[0;31m                 \u001b[0mgenerator_output\u001b[0m \u001b[0;34m=\u001b[0m \u001b[0mnext\u001b[0m\u001b[0;34m(\u001b[0m\u001b[0moutput_generator\u001b[0m\u001b[0;34m)\u001b[0m\u001b[0;34m\u001b[0m\u001b[0m\n\u001b[0m\u001b[1;32m    178\u001b[0m \u001b[0;34m\u001b[0m\u001b[0m\n\u001b[1;32m    179\u001b[0m                 \u001b[0;32mif\u001b[0m \u001b[0;32mnot\u001b[0m \u001b[0mhasattr\u001b[0m\u001b[0;34m(\u001b[0m\u001b[0mgenerator_output\u001b[0m\u001b[0;34m,\u001b[0m \u001b[0;34m'__len__'\u001b[0m\u001b[0;34m)\u001b[0m\u001b[0;34m:\u001b[0m\u001b[0;34m\u001b[0m\u001b[0m\n",
      "\u001b[0;32m~/miniconda3/envs/reinforcement_learning/lib/python3.6/site-packages/keras/utils/data_utils.py\u001b[0m in \u001b[0;36mget\u001b[0;34m(self)\u001b[0m\n\u001b[1;32m    576\u001b[0m         \u001b[0;32mtry\u001b[0m\u001b[0;34m:\u001b[0m\u001b[0;34m\u001b[0m\u001b[0m\n\u001b[1;32m    577\u001b[0m             \u001b[0;32mwhile\u001b[0m \u001b[0mself\u001b[0m\u001b[0;34m.\u001b[0m\u001b[0mis_running\u001b[0m\u001b[0;34m(\u001b[0m\u001b[0;34m)\u001b[0m\u001b[0;34m:\u001b[0m\u001b[0;34m\u001b[0m\u001b[0m\n\u001b[0;32m--> 578\u001b[0;31m                 \u001b[0minputs\u001b[0m \u001b[0;34m=\u001b[0m \u001b[0mself\u001b[0m\u001b[0;34m.\u001b[0m\u001b[0mqueue\u001b[0m\u001b[0;34m.\u001b[0m\u001b[0mget\u001b[0m\u001b[0;34m(\u001b[0m\u001b[0mblock\u001b[0m\u001b[0;34m=\u001b[0m\u001b[0;32mTrue\u001b[0m\u001b[0;34m)\u001b[0m\u001b[0;34m.\u001b[0m\u001b[0mget\u001b[0m\u001b[0;34m(\u001b[0m\u001b[0;34m)\u001b[0m\u001b[0;34m\u001b[0m\u001b[0m\n\u001b[0m\u001b[1;32m    579\u001b[0m                 \u001b[0mself\u001b[0m\u001b[0;34m.\u001b[0m\u001b[0mqueue\u001b[0m\u001b[0;34m.\u001b[0m\u001b[0mtask_done\u001b[0m\u001b[0;34m(\u001b[0m\u001b[0;34m)\u001b[0m\u001b[0;34m\u001b[0m\u001b[0m\n\u001b[1;32m    580\u001b[0m                 \u001b[0;32mif\u001b[0m \u001b[0minputs\u001b[0m \u001b[0;32mis\u001b[0m \u001b[0;32mnot\u001b[0m \u001b[0;32mNone\u001b[0m\u001b[0;34m:\u001b[0m\u001b[0;34m\u001b[0m\u001b[0m\n",
      "\u001b[0;32m~/miniconda3/envs/reinforcement_learning/lib/python3.6/multiprocessing/pool.py\u001b[0m in \u001b[0;36mget\u001b[0;34m(self, timeout)\u001b[0m\n\u001b[1;32m    636\u001b[0m \u001b[0;34m\u001b[0m\u001b[0m\n\u001b[1;32m    637\u001b[0m     \u001b[0;32mdef\u001b[0m \u001b[0mget\u001b[0m\u001b[0;34m(\u001b[0m\u001b[0mself\u001b[0m\u001b[0;34m,\u001b[0m \u001b[0mtimeout\u001b[0m\u001b[0;34m=\u001b[0m\u001b[0;32mNone\u001b[0m\u001b[0;34m)\u001b[0m\u001b[0;34m:\u001b[0m\u001b[0;34m\u001b[0m\u001b[0m\n\u001b[0;32m--> 638\u001b[0;31m         \u001b[0mself\u001b[0m\u001b[0;34m.\u001b[0m\u001b[0mwait\u001b[0m\u001b[0;34m(\u001b[0m\u001b[0mtimeout\u001b[0m\u001b[0;34m)\u001b[0m\u001b[0;34m\u001b[0m\u001b[0m\n\u001b[0m\u001b[1;32m    639\u001b[0m         \u001b[0;32mif\u001b[0m \u001b[0;32mnot\u001b[0m \u001b[0mself\u001b[0m\u001b[0;34m.\u001b[0m\u001b[0mready\u001b[0m\u001b[0;34m(\u001b[0m\u001b[0;34m)\u001b[0m\u001b[0;34m:\u001b[0m\u001b[0;34m\u001b[0m\u001b[0m\n\u001b[1;32m    640\u001b[0m             \u001b[0;32mraise\u001b[0m \u001b[0mTimeoutError\u001b[0m\u001b[0;34m\u001b[0m\u001b[0m\n",
      "\u001b[0;32m~/miniconda3/envs/reinforcement_learning/lib/python3.6/multiprocessing/pool.py\u001b[0m in \u001b[0;36mwait\u001b[0;34m(self, timeout)\u001b[0m\n\u001b[1;32m    633\u001b[0m \u001b[0;34m\u001b[0m\u001b[0m\n\u001b[1;32m    634\u001b[0m     \u001b[0;32mdef\u001b[0m \u001b[0mwait\u001b[0m\u001b[0;34m(\u001b[0m\u001b[0mself\u001b[0m\u001b[0;34m,\u001b[0m \u001b[0mtimeout\u001b[0m\u001b[0;34m=\u001b[0m\u001b[0;32mNone\u001b[0m\u001b[0;34m)\u001b[0m\u001b[0;34m:\u001b[0m\u001b[0;34m\u001b[0m\u001b[0m\n\u001b[0;32m--> 635\u001b[0;31m         \u001b[0mself\u001b[0m\u001b[0;34m.\u001b[0m\u001b[0m_event\u001b[0m\u001b[0;34m.\u001b[0m\u001b[0mwait\u001b[0m\u001b[0;34m(\u001b[0m\u001b[0mtimeout\u001b[0m\u001b[0;34m)\u001b[0m\u001b[0;34m\u001b[0m\u001b[0m\n\u001b[0m\u001b[1;32m    636\u001b[0m \u001b[0;34m\u001b[0m\u001b[0m\n\u001b[1;32m    637\u001b[0m     \u001b[0;32mdef\u001b[0m \u001b[0mget\u001b[0m\u001b[0;34m(\u001b[0m\u001b[0mself\u001b[0m\u001b[0;34m,\u001b[0m \u001b[0mtimeout\u001b[0m\u001b[0;34m=\u001b[0m\u001b[0;32mNone\u001b[0m\u001b[0;34m)\u001b[0m\u001b[0;34m:\u001b[0m\u001b[0;34m\u001b[0m\u001b[0m\n",
      "\u001b[0;32m~/miniconda3/envs/reinforcement_learning/lib/python3.6/threading.py\u001b[0m in \u001b[0;36mwait\u001b[0;34m(self, timeout)\u001b[0m\n\u001b[1;32m    549\u001b[0m             \u001b[0msignaled\u001b[0m \u001b[0;34m=\u001b[0m \u001b[0mself\u001b[0m\u001b[0;34m.\u001b[0m\u001b[0m_flag\u001b[0m\u001b[0;34m\u001b[0m\u001b[0m\n\u001b[1;32m    550\u001b[0m             \u001b[0;32mif\u001b[0m \u001b[0;32mnot\u001b[0m \u001b[0msignaled\u001b[0m\u001b[0;34m:\u001b[0m\u001b[0;34m\u001b[0m\u001b[0m\n\u001b[0;32m--> 551\u001b[0;31m                 \u001b[0msignaled\u001b[0m \u001b[0;34m=\u001b[0m \u001b[0mself\u001b[0m\u001b[0;34m.\u001b[0m\u001b[0m_cond\u001b[0m\u001b[0;34m.\u001b[0m\u001b[0mwait\u001b[0m\u001b[0;34m(\u001b[0m\u001b[0mtimeout\u001b[0m\u001b[0;34m)\u001b[0m\u001b[0;34m\u001b[0m\u001b[0m\n\u001b[0m\u001b[1;32m    552\u001b[0m             \u001b[0;32mreturn\u001b[0m \u001b[0msignaled\u001b[0m\u001b[0;34m\u001b[0m\u001b[0m\n\u001b[1;32m    553\u001b[0m \u001b[0;34m\u001b[0m\u001b[0m\n",
      "\u001b[0;32m~/miniconda3/envs/reinforcement_learning/lib/python3.6/threading.py\u001b[0m in \u001b[0;36mwait\u001b[0;34m(self, timeout)\u001b[0m\n\u001b[1;32m    293\u001b[0m         \u001b[0;32mtry\u001b[0m\u001b[0;34m:\u001b[0m    \u001b[0;31m# restore state no matter what (e.g., KeyboardInterrupt)\u001b[0m\u001b[0;34m\u001b[0m\u001b[0m\n\u001b[1;32m    294\u001b[0m             \u001b[0;32mif\u001b[0m \u001b[0mtimeout\u001b[0m \u001b[0;32mis\u001b[0m \u001b[0;32mNone\u001b[0m\u001b[0;34m:\u001b[0m\u001b[0;34m\u001b[0m\u001b[0m\n\u001b[0;32m--> 295\u001b[0;31m                 \u001b[0mwaiter\u001b[0m\u001b[0;34m.\u001b[0m\u001b[0macquire\u001b[0m\u001b[0;34m(\u001b[0m\u001b[0;34m)\u001b[0m\u001b[0;34m\u001b[0m\u001b[0m\n\u001b[0m\u001b[1;32m    296\u001b[0m                 \u001b[0mgotit\u001b[0m \u001b[0;34m=\u001b[0m \u001b[0;32mTrue\u001b[0m\u001b[0;34m\u001b[0m\u001b[0m\n\u001b[1;32m    297\u001b[0m             \u001b[0;32melse\u001b[0m\u001b[0;34m:\u001b[0m\u001b[0;34m\u001b[0m\u001b[0m\n",
      "\u001b[0;31mKeyboardInterrupt\u001b[0m: "
     ]
    }
   ],
   "source": [
    "model.fit_generator(sequence, epochs=epochs, verbose=1)"
   ]
  },
  {
   "cell_type": "code",
   "execution_count": 48,
   "metadata": {},
   "outputs": [],
   "source": [
    "model.save_weights('rnn_86epochs.h5')"
   ]
  },
  {
   "cell_type": "code",
   "execution_count": null,
   "metadata": {},
   "outputs": [],
   "source": [
    "model.predict(np.array([get_state(wd)]))[1][0][0]"
   ]
  },
  {
   "cell_type": "code",
   "execution_count": null,
   "metadata": {},
   "outputs": [],
   "source": [
    "[get_state(wd)].shape"
   ]
  },
  {
   "cell_type": "code",
   "execution_count": null,
   "metadata": {},
   "outputs": [],
   "source": [
    "test = np.random.rand(3, 5, 2)"
   ]
  },
  {
   "cell_type": "code",
   "execution_count": null,
   "metadata": {},
   "outputs": [],
   "source": [
    "test"
   ]
  },
  {
   "cell_type": "code",
   "execution_count": null,
   "metadata": {},
   "outputs": [],
   "source": [
    "test[:, 3, :]"
   ]
  },
  {
   "cell_type": "code",
   "execution_count": null,
   "metadata": {},
   "outputs": [],
   "source": [
    "test.reshape([3, 1, 5])[:, :, 0]"
   ]
  },
  {
   "cell_type": "code",
   "execution_count": null,
   "metadata": {},
   "outputs": [],
   "source": [
    "in_state = []\n",
    "state = get_state(wd)"
   ]
  },
  {
   "cell_type": "code",
   "execution_count": null,
   "metadata": {},
   "outputs": [],
   "source": [
    "state"
   ]
  },
  {
   "cell_type": "code",
   "execution_count": null,
   "metadata": {},
   "outputs": [],
   "source": [
    "in_state.append(state)"
   ]
  },
  {
   "cell_type": "code",
   "execution_count": null,
   "metadata": {},
   "outputs": [],
   "source": [
    "in_state"
   ]
  },
  {
   "cell_type": "code",
   "execution_count": null,
   "metadata": {},
   "outputs": [],
   "source": [
    "np.array(in_state)"
   ]
  },
  {
   "cell_type": "code",
   "execution_count": null,
   "metadata": {},
   "outputs": [],
   "source": [
    "state1 = get_state(wd)"
   ]
  },
  {
   "cell_type": "code",
   "execution_count": null,
   "metadata": {},
   "outputs": [],
   "source": [
    "state2 = get_state(wd)"
   ]
  },
  {
   "cell_type": "code",
   "execution_count": null,
   "metadata": {},
   "outputs": [],
   "source": [
    "np.append(state1, state2).reshape([1, 8])"
   ]
  },
  {
   "cell_type": "code",
   "execution_count": null,
   "metadata": {},
   "outputs": [],
   "source": [
    "state1.shape"
   ]
  },
  {
   "cell_type": "code",
   "execution_count": null,
   "metadata": {},
   "outputs": [],
   "source": [
    "model.predict(get_state(wd).reshape([1, 1, 4]))[0]"
   ]
  },
  {
   "cell_type": "code",
   "execution_count": null,
   "metadata": {},
   "outputs": [],
   "source": [
    "s = get_state(wd)"
   ]
  },
  {
   "cell_type": "code",
   "execution_count": null,
   "metadata": {},
   "outputs": [],
   "source": [
    "state_h = get_state(wd)"
   ]
  },
  {
   "cell_type": "code",
   "execution_count": null,
   "metadata": {},
   "outputs": [],
   "source": [
    "state_h = np.append(state_h, s, axis=0)"
   ]
  },
  {
   "cell_type": "code",
   "execution_count": null,
   "metadata": {},
   "outputs": [],
   "source": [
    "model.predict(state_h.reshape([1, state_h.shape[0], state_h.shape[1]]))[0][0].shape"
   ]
  },
  {
   "cell_type": "code",
   "execution_count": null,
   "metadata": {},
   "outputs": [],
   "source": [
    "state_h"
   ]
  },
  {
   "cell_type": "code",
   "execution_count": null,
   "metadata": {},
   "outputs": [],
   "source": [
    "form = np.full([sequence_len, state_len], empty)"
   ]
  },
  {
   "cell_type": "code",
   "execution_count": null,
   "metadata": {},
   "outputs": [],
   "source": [
    "form"
   ]
  },
  {
   "cell_type": "code",
   "execution_count": null,
   "metadata": {},
   "outputs": [],
   "source": [
    "form = np.append(form[1:], get_state(wd), axis=0)"
   ]
  },
  {
   "cell_type": "code",
   "execution_count": null,
   "metadata": {},
   "outputs": [],
   "source": [
    "form"
   ]
  },
  {
   "cell_type": "code",
   "execution_count": null,
   "metadata": {},
   "outputs": [],
   "source": [
    "form = np.append(form[1:], get_state(wd),  axis=0)"
   ]
  },
  {
   "cell_type": "code",
   "execution_count": null,
   "metadata": {},
   "outputs": [],
   "source": [
    "model.predict(form.reshape([1, form.shape[0], form.shape[1]]))"
   ]
  },
  {
   "cell_type": "code",
   "execution_count": null,
   "metadata": {},
   "outputs": [],
   "source": [
    "get_state(wd)"
   ]
  },
  {
   "cell_type": "code",
   "execution_count": null,
   "metadata": {},
   "outputs": [],
   "source": [
    "form"
   ]
  },
  {
   "cell_type": "code",
   "execution_count": null,
   "metadata": {},
   "outputs": [],
   "source": [
    "form[-1, 2:]"
   ]
  },
  {
   "cell_type": "code",
   "execution_count": null,
   "metadata": {},
   "outputs": [],
   "source": [
    "np.full([sequence_len, state_len], empty)"
   ]
  },
  {
   "cell_type": "code",
   "execution_count": null,
   "metadata": {},
   "outputs": [],
   "source": [
    "example = np.full([6, 4], 0)"
   ]
  },
  {
   "cell_type": "code",
   "execution_count": null,
   "metadata": {},
   "outputs": [],
   "source": [
    "example = np.append(example[1:], get_state(wd), axis=0)"
   ]
  },
  {
   "cell_type": "code",
   "execution_count": null,
   "metadata": {},
   "outputs": [],
   "source": [
    "example"
   ]
  },
  {
   "cell_type": "code",
   "execution_count": 24,
   "metadata": {},
   "outputs": [],
   "source": [
    "start_sim(wd)"
   ]
  },
  {
   "cell_type": "code",
   "execution_count": 25,
   "metadata": {},
   "outputs": [],
   "source": [
    "random_target(wd)"
   ]
  },
  {
   "cell_type": "code",
   "execution_count": null,
   "metadata": {},
   "outputs": [],
   "source": [
    "wd.get(\"https://rinatius.github.io/4magnets/\") element.send_keys(str(int(value))) element.click() wd.find_element_by_xpath(\"/html/body/input[2]\") element.get_attribute(\"value\")\n"
   ]
  },
  {
   "cell_type": "code",
   "execution_count": 49,
   "metadata": {},
   "outputs": [],
   "source": [
    "class MultiWD():\n",
    "    def __init__(self, wd_number):\n",
    "        chrome_options = webdriver.ChromeOptions()\n",
    "        chrome_options.add_argument('--headless')\n",
    "        self.drivers = []\n",
    "        for i in range(wd_number):\n",
    "            self.drivers.append(webdriver.Chrome('chromedriver', options=chrome_options))\n",
    "            \n",
    "    def get(self, url):\n",
    "        for driver in self.drivers:\n",
    "            driver.get(url)\n",
    "    \n",
    "    def find_element_by_xpath(self, xpath):\n",
    "        return MultiElement([driver.find_element_by_xpath(xpath) for driver in self.drivers])\n",
    "\n",
    "class MultiElement():\n",
    "    def __init__(self, elements):\n",
    "        self.elements = elements\n",
    "    \n",
    "    def send_keys(self, value):\n",
    "        return [element.send_keys(value) for element in self.elements]\n",
    "    \n",
    "    def click(self):\n",
    "        for element in self.elements:\n",
    "            element.click()\n",
    "    \n",
    "    def get_attribute(self, attribute):\n",
    "        return [float(element.get_attribute(attribute)) for element in self.elements]\n",
    "        \n",
    "    "
   ]
  },
  {
   "cell_type": "code",
   "execution_count": 50,
   "metadata": {},
   "outputs": [],
   "source": [
    "mwd = MultiWD(3)"
   ]
  },
  {
   "cell_type": "code",
   "execution_count": 51,
   "metadata": {},
   "outputs": [],
   "source": [
    "mwd.get(\"https://rinatius.github.io/4magnets/\")"
   ]
  },
  {
   "cell_type": "code",
   "execution_count": 52,
   "metadata": {},
   "outputs": [
    {
     "ename": "TypeError",
     "evalue": "float() argument must be a string or a number, not 'list'",
     "output_type": "error",
     "traceback": [
      "\u001b[0;31m---------------------------------------------------------------------------\u001b[0m",
      "\u001b[0;31mTypeError\u001b[0m                                 Traceback (most recent call last)",
      "\u001b[0;32m<ipython-input-52-3e077916d1a1>\u001b[0m in \u001b[0;36m<module>\u001b[0;34m()\u001b[0m\n\u001b[0;32m----> 1\u001b[0;31m \u001b[0mget_state\u001b[0m\u001b[0;34m(\u001b[0m\u001b[0mmwd\u001b[0m\u001b[0;34m)\u001b[0m\u001b[0;34m\u001b[0m\u001b[0m\n\u001b[0m",
      "\u001b[0;32m<ipython-input-11-eb3bd3177b4b>\u001b[0m in \u001b[0;36mget_state\u001b[0;34m(wd)\u001b[0m\n\u001b[1;32m     16\u001b[0m \u001b[0;32mdef\u001b[0m \u001b[0mget_state\u001b[0m\u001b[0;34m(\u001b[0m\u001b[0mwd\u001b[0m\u001b[0;34m)\u001b[0m\u001b[0;34m:\u001b[0m\u001b[0;34m\u001b[0m\u001b[0m\n\u001b[1;32m     17\u001b[0m     \u001b[0mvalues\u001b[0m \u001b[0;34m=\u001b[0m \u001b[0;34m[\u001b[0m\u001b[0;34m]\u001b[0m\u001b[0;34m\u001b[0m\u001b[0m\n\u001b[0;32m---> 18\u001b[0;31m     \u001b[0mvalues\u001b[0m\u001b[0;34m.\u001b[0m\u001b[0mappend\u001b[0m\u001b[0;34m(\u001b[0m\u001b[0;34m(\u001b[0m\u001b[0mfloat\u001b[0m\u001b[0;34m(\u001b[0m\u001b[0mwd\u001b[0m\u001b[0;34m.\u001b[0m\u001b[0mfind_element_by_xpath\u001b[0m\u001b[0;34m(\u001b[0m\u001b[0;34m\"/html/body/input[2]\"\u001b[0m\u001b[0;34m)\u001b[0m\u001b[0;34m.\u001b[0m\u001b[0mget_attribute\u001b[0m\u001b[0;34m(\u001b[0m\u001b[0;34m\"value\"\u001b[0m\u001b[0;34m)\u001b[0m\u001b[0;34m)\u001b[0m \u001b[0;34m-\u001b[0m \u001b[0mX_MIN\u001b[0m\u001b[0;34m)\u001b[0m\u001b[0;34m/\u001b[0m\u001b[0;34m(\u001b[0m\u001b[0mX_MAX\u001b[0m \u001b[0;34m-\u001b[0m \u001b[0mX_MIN\u001b[0m\u001b[0;34m)\u001b[0m\u001b[0;34m)\u001b[0m\u001b[0;34m\u001b[0m\u001b[0m\n\u001b[0m\u001b[1;32m     19\u001b[0m     \u001b[0mvalues\u001b[0m\u001b[0;34m.\u001b[0m\u001b[0mappend\u001b[0m\u001b[0;34m(\u001b[0m\u001b[0;34m(\u001b[0m\u001b[0mfloat\u001b[0m\u001b[0;34m(\u001b[0m\u001b[0mwd\u001b[0m\u001b[0;34m.\u001b[0m\u001b[0mfind_element_by_xpath\u001b[0m\u001b[0;34m(\u001b[0m\u001b[0;34m\"/html/body/input[3]\"\u001b[0m\u001b[0;34m)\u001b[0m\u001b[0;34m.\u001b[0m\u001b[0mget_attribute\u001b[0m\u001b[0;34m(\u001b[0m\u001b[0;34m\"value\"\u001b[0m\u001b[0;34m)\u001b[0m\u001b[0;34m)\u001b[0m \u001b[0;34m-\u001b[0m \u001b[0mY_MIN\u001b[0m\u001b[0;34m)\u001b[0m\u001b[0;34m/\u001b[0m\u001b[0;34m(\u001b[0m\u001b[0mY_MAX\u001b[0m \u001b[0;34m-\u001b[0m \u001b[0mY_MIN\u001b[0m\u001b[0;34m)\u001b[0m\u001b[0;34m)\u001b[0m\u001b[0;34m\u001b[0m\u001b[0m\n\u001b[1;32m     20\u001b[0m     \u001b[0mvalues\u001b[0m\u001b[0;34m.\u001b[0m\u001b[0mappend\u001b[0m\u001b[0;34m(\u001b[0m\u001b[0;34m(\u001b[0m\u001b[0mfloat\u001b[0m\u001b[0;34m(\u001b[0m\u001b[0mwd\u001b[0m\u001b[0;34m.\u001b[0m\u001b[0mfind_element_by_xpath\u001b[0m\u001b[0;34m(\u001b[0m\u001b[0;34m\"/html/body/input[4]\"\u001b[0m\u001b[0;34m)\u001b[0m\u001b[0;34m.\u001b[0m\u001b[0mget_attribute\u001b[0m\u001b[0;34m(\u001b[0m\u001b[0;34m\"value\"\u001b[0m\u001b[0;34m)\u001b[0m\u001b[0;34m)\u001b[0m \u001b[0;34m-\u001b[0m \u001b[0mX_MIN\u001b[0m\u001b[0;34m)\u001b[0m\u001b[0;34m/\u001b[0m\u001b[0;34m(\u001b[0m\u001b[0mX_MAX\u001b[0m \u001b[0;34m-\u001b[0m \u001b[0mX_MIN\u001b[0m\u001b[0;34m)\u001b[0m\u001b[0;34m)\u001b[0m\u001b[0;34m\u001b[0m\u001b[0m\n",
      "\u001b[0;31mTypeError\u001b[0m: float() argument must be a string or a number, not 'list'"
     ]
    }
   ],
   "source": [
    "get_state(mwd)"
   ]
  },
  {
   "cell_type": "code",
   "execution_count": 54,
   "metadata": {},
   "outputs": [
    {
     "ename": "TypeError",
     "evalue": "only size-1 arrays can be converted to Python scalars",
     "output_type": "error",
     "traceback": [
      "\u001b[0;31m---------------------------------------------------------------------------\u001b[0m",
      "\u001b[0;31mTypeError\u001b[0m                                 Traceback (most recent call last)",
      "\u001b[0;32m<ipython-input-54-fa13b8d661c0>\u001b[0m in \u001b[0;36m<module>\u001b[0;34m()\u001b[0m\n\u001b[0;32m----> 1\u001b[0;31m \u001b[0mfloat\u001b[0m\u001b[0;34m(\u001b[0m\u001b[0mnp\u001b[0m\u001b[0;34m.\u001b[0m\u001b[0mzeros\u001b[0m\u001b[0;34m(\u001b[0m\u001b[0;34m[\u001b[0m\u001b[0;36m3\u001b[0m\u001b[0;34m,\u001b[0m \u001b[0;36m2\u001b[0m\u001b[0;34m]\u001b[0m\u001b[0;34m)\u001b[0m\u001b[0;34m)\u001b[0m\u001b[0;34m\u001b[0m\u001b[0m\n\u001b[0m",
      "\u001b[0;31mTypeError\u001b[0m: only size-1 arrays can be converted to Python scalars"
     ]
    }
   ],
   "source": [
    "float(np.zeros([3, 2]))"
   ]
  },
  {
   "cell_type": "code",
   "execution_count": null,
   "metadata": {},
   "outputs": [],
   "source": []
  }
 ],
 "metadata": {
  "kernelspec": {
   "display_name": "Python 3",
   "language": "python",
   "name": "python3"
  },
  "language_info": {
   "codemirror_mode": {
    "name": "ipython",
    "version": 3
   },
   "file_extension": ".py",
   "mimetype": "text/x-python",
   "name": "python",
   "nbconvert_exporter": "python",
   "pygments_lexer": "ipython3",
   "version": "3.6.6"
  }
 },
 "nbformat": 4,
 "nbformat_minor": 2
}
